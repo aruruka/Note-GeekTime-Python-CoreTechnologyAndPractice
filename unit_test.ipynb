{
 "cells": [
  {
   "cell_type": "code",
   "execution_count": 3,
   "metadata": {},
   "outputs": [
    {
     "name": "stderr",
     "output_type": "stream",
     "text": [
      ".\n",
      "----------------------------------------------------------------------\n",
      "Ran 1 test in 0.001s\n",
      "\n",
      "OK\n"
     ]
    }
   ],
   "source": [
    "import unittest\n",
    "\n",
    "# 将要被测试的排序函数\n",
    "\n",
    "\n",
    "def sort(arr):\n",
    "    l = len(arr)\n",
    "    for i in range(0, l):\n",
    "        for j in range(i + 1, l):\n",
    "            if arr[i] >= arr[j]:\n",
    "                tmp = arr[i]\n",
    "                arr[i] = arr[j]\n",
    "                arr[j] = tmp\n",
    "\n",
    "# 编写子类继承 unittest.TestCase\n",
    "class TestSort(unittest.TestCase):\n",
    "\n",
    "    # 以 test 开头的函数将会被测试\n",
    "    def test_sort(self):\n",
    "        arr = [3, 4, 1, 5, 6]\n",
    "        sort(arr)\n",
    "        # assert 结果跟我们期待的一样\n",
    "        self.assertEqual(arr, [1, 3, 4, 5, 6])\n",
    "\n",
    "\n",
    "if __name__ == '__main__':\n",
    "    # 如果在 Jupyter 下，请用如下方式运行单元测试\n",
    "    unittest.main(argv=['first-arg-is-ignored'], exit=False)\n",
    "\n",
    "    # 如果是命令行下运行，则：\n",
    "    # unittest.main()\n"
   ]
  },
  {
   "cell_type": "code",
   "execution_count": 5,
   "metadata": {},
   "outputs": [
    {
     "name": "stderr",
     "output_type": "stream",
     "text": [
      "..\n",
      "----------------------------------------------------------------------\n",
      "Ran 2 tests in 0.003s\n",
      "\n",
      "OK\n"
     ]
    }
   ],
   "source": [
    "import unittest\n",
    "from unittest.mock import MagicMock\n",
    "\n",
    "class A(unittest.TestCase):\n",
    "    def m1(self):\n",
    "        val = self.m2()\n",
    "        self.m3(val)\n",
    "    \n",
    "    def m2(self):\n",
    "        pass\n",
    "\n",
    "    def m3(self, val):\n",
    "        pass\n",
    "\n",
    "    def test_m1(self):\n",
    "        a = A()\n",
    "        a.m2 = MagicMock(return_value=\"custom_val\")\n",
    "        a.m3 = MagicMock()\n",
    "        a.m1()\n",
    "        self.assertTrue(a.m2.called) # 验证 m2 被 call 过\n",
    "        a.m3.assert_called_with(\"custom_val\") # 验证 m3 被指定参数 call 过\n",
    "    \n",
    "if __name__ == '__main__':\n",
    "    unittest.main(argv=['first-arg-is-ignored'], exit=False)\n"
   ]
  },
  {
   "cell_type": "code",
   "execution_count": 6,
   "metadata": {},
   "outputs": [
    {
     "name": "stdout",
     "output_type": "stream",
     "text": [
      "1\n",
      "2\n"
     ]
    }
   ],
   "source": [
    "from unittest.mock import MagicMock\n",
    "\n",
    "def side_effect(arg):\n",
    "    if arg < 0:\n",
    "        return 1\n",
    "    else:\n",
    "        return 2\n",
    "\n",
    "mock = MagicMock()\n",
    "mock.side_effect = side_effect\n",
    "\n",
    "print(mock(-1))\n",
    "print(mock(1))\n",
    "\n"
   ]
  },
  {
   "cell_type": "code",
   "execution_count": null,
   "metadata": {},
   "outputs": [],
   "source": [
    "from unittest.mock import patch\n",
    "\n",
    "@patch('sort')\n",
    "def test_sort(self, mock_sort):\n",
    "    ...\n",
    "    ..."
   ]
  },
  {
   "cell_type": "code",
   "execution_count": null,
   "metadata": {},
   "outputs": [],
   "source": [
    "with patch.object(A, '__init__', lambda x: None):"
   ]
  },
  {
   "cell_type": "code",
   "execution_count": null,
   "metadata": {},
   "outputs": [],
   "source": [
    "def work(arr):\n",
    "    # pre process\n",
    "    ...\n",
    "    ...\n",
    "    # sort\n",
    "    l = len(arr)\n",
    "    for i in range(0, l):\n",
    "        for j in range(i + 1, l):\n",
    "            if arr[i] >= arr[j]:\n",
    "                tmp = arr[i]\n",
    "                arr[i] = arr[j]\n",
    "                arr[j] = tmp\n",
    "    \n",
    "    # post process\n",
    "    ...\n",
    "    ...\n",
    "    return arr\n",
    "\n",
    "\n",
    "def preprocess(arr):\n",
    "        ...\n",
    "        ...\n",
    "        return arr\n",
    "\n",
    "def sort(arr):\n",
    "    ...\n",
    "    ...\n",
    "    return arr\n",
    "\n",
    "def postprocess(arr):\n",
    "    ...\n",
    "    return arr\n",
    "\n",
    "\n",
    "from unittest.mock import patch\n",
    "import unittest\n",
    "\n",
    "class TestWork(unittest.TestCase):\n",
    "\n",
    "    def work(self, arr):\n",
    "        arr = preprocess(arr)\n",
    "        arr = sort(arr)\n",
    "        arr = postprocess(arr)\n",
    "        return arr\n",
    "\n",
    "    def test_process(self):\n",
    "        ...\n",
    "\n",
    "    def test_sort(self):\n",
    "        ...\n",
    "\n",
    "    def test_postprocess(self):\n",
    "        ...\n",
    "\n",
    "    mock_postprocess = MagicMock()\n",
    "    mock_sort = MagicMock()\n",
    "    mock_postprocess = MagicMock()\n",
    "    \n",
    "    @patch('preprocess')\n",
    "    @patch('sort')\n",
    "    @patch('postprocess')\n",
    "    def test_work(self, mock_preprocess, mock_sort, mock_postprocess):\n",
    "        mock_arr = MagicMock()\n",
    "        work(mock_arr)\n",
    "        self.assertTrue(mock_postprocess.called)\n",
    "        self.assertTrue(mock_sort.called)\n",
    "        self.assertTrue(mock_preprocess.called)\n",
    "    \n",
    "    \n",
    "if __name__ == '__main__':\n",
    "    unittest.main(argv=['first-arg-is-ignored'], exit=False)"
   ]
  }
 ],
 "metadata": {
  "kernelspec": {
   "display_name": "geekbang-python-core",
   "language": "python",
   "name": "python3"
  },
  "language_info": {
   "codemirror_mode": {
    "name": "ipython",
    "version": 3
   },
   "file_extension": ".py",
   "mimetype": "text/x-python",
   "name": "python",
   "nbconvert_exporter": "python",
   "pygments_lexer": "ipython3",
   "version": "3.9.15"
  },
  "orig_nbformat": 4,
  "vscode": {
   "interpreter": {
    "hash": "80c78d802a3c1cded24c666231dc8c172ce01ee8af83719d58c29c99aa9f4b00"
   }
  }
 },
 "nbformat": 4,
 "nbformat_minor": 2
}
