{
 "cells": [
  {
   "cell_type": "code",
   "execution_count": 1,
   "metadata": {},
   "outputs": [
    {
     "name": "stdout",
     "output_type": "stream",
     "text": [
      "init function called\n",
      "Harry Potter\n",
      "J. K. Rowling\n",
      "77\n",
      "10\n"
     ]
    },
    {
     "ename": "AttributeError",
     "evalue": "'Document' object has no attribute '__context'",
     "output_type": "error",
     "traceback": [
      "\u001b[0;31m---------------------------------------------------------------------------\u001b[0m",
      "\u001b[0;31mAttributeError\u001b[0m                            Traceback (most recent call last)",
      "Cell \u001b[0;32mIn [1], line 24\u001b[0m\n\u001b[1;32m     20\u001b[0m harry_potter_book\u001b[39m.\u001b[39mintercept_context(\u001b[39m10\u001b[39m)\n\u001b[1;32m     22\u001b[0m \u001b[39mprint\u001b[39m(harry_potter_book\u001b[39m.\u001b[39mget_context_length())\n\u001b[0;32m---> 24\u001b[0m \u001b[39mprint\u001b[39m(harry_potter_book\u001b[39m.\u001b[39;49m__context)\n",
      "\u001b[0;31mAttributeError\u001b[0m: 'Document' object has no attribute '__context'"
     ]
    }
   ],
   "source": [
    "class Document():\n",
    "    def __init__(self, title, author, context) -> None:\n",
    "        print('init function called')\n",
    "        self.title = title\n",
    "        self.author = author\n",
    "        self.__context = context # __开头的属性是私有属性\n",
    "\n",
    "    def get_context_length(self):\n",
    "        return len(self.__context)\n",
    "    \n",
    "    def intercept_context(self, length):\n",
    "        self.__context = self.__context[:length]\n",
    "    \n",
    "harry_potter_book = Document('Harry Potter', 'J. K. Rowling', '... Forever Do not believe any thing is capable of thinking independently ...')\n",
    "\n",
    "print(harry_potter_book.title)\n",
    "print(harry_potter_book.author)\n",
    "print(harry_potter_book.get_context_length())\n",
    "\n",
    "harry_potter_book.intercept_context(10)\n",
    "\n",
    "print(harry_potter_book.get_context_length())\n",
    "\n",
    "print(harry_potter_book.__context)"
   ]
  },
  {
   "cell_type": "code",
   "execution_count": 1,
   "metadata": {},
   "outputs": [
    {
     "name": "stdout",
     "output_type": "stream",
     "text": [
      "init function called\n",
      "7\n",
      "Welcome! The context for this book is indeed nothing.\n"
     ]
    }
   ],
   "source": [
    "class Document():\n",
    "\n",
    "    WELCOME_STR = 'Welcome! The context for this book is {}.'\n",
    "\n",
    "    def __init__(self, title, author, context) -> None:\n",
    "        print('init function called')\n",
    "        self.title = title\n",
    "        self.author = author\n",
    "        self.__context = context\n",
    "\n",
    "    # 类函数\n",
    "    @classmethod\n",
    "    def create_empty_book(cls, title, author):\n",
    "        return cls(title=title, author=author, context='nothing')\n",
    "\n",
    "    # 成员函数\n",
    "    def get_context_length(self):\n",
    "        return len(self.__context)\n",
    "\n",
    "    # 静态函数\n",
    "    @staticmethod\n",
    "    def get_welcome(context):\n",
    "        return Document.WELCOME_STR.format(context)\n",
    "\n",
    "empty_book = Document.create_empty_book(\n",
    "    'What Every Man Thinks About Apart from Sex', 'Professor Sheridan Simove')\n",
    "\n",
    "print(empty_book.get_context_length())\n",
    "print(empty_book.get_welcome('indeed nothing'))\n"
   ]
  },
  {
   "cell_type": "code",
   "execution_count": 2,
   "metadata": {},
   "outputs": [
    {
     "name": "stdout",
     "output_type": "stream",
     "text": [
      "Document class init called\n",
      "parent class init called\n",
      "Video class init called\n",
      "parent class init called\n",
      "document\n",
      "video\n",
      "Harry Potter(Book)\n",
      "Harry Potter(Movie)\n",
      "77\n",
      "120\n"
     ]
    }
   ],
   "source": [
    "class Entity():\n",
    "    def __init__(self, object_type) -> None:\n",
    "        print('parent class init called')\n",
    "        self.object_type = object_type\n",
    "    \n",
    "    def get_context_length(self):\n",
    "        raise Exception('get_context_length not implemented')\n",
    "    \n",
    "    def print_title(self):\n",
    "        print(self.title)\n",
    "    \n",
    "class Document(Entity):\n",
    "    def __init__(self, title, author, context) -> None:\n",
    "        print('Document class init called')\n",
    "        Entity.__init__(self, 'document')\n",
    "        self.title = title\n",
    "        self.author = author\n",
    "        self.__context = context\n",
    "    \n",
    "    def get_context_length(self):\n",
    "        return len(self.__context)\n",
    "\n",
    "class Video(Entity):\n",
    "    def __init__(self, title, author, video_length) -> None:\n",
    "        print('Video class init called')\n",
    "        Entity.__init__(self, 'video')\n",
    "        self.title = title\n",
    "        self.author = author\n",
    "        self.__video_length = video_length\n",
    "    \n",
    "    def get_context_length(self):\n",
    "        return self.__video_length\n",
    "    \n",
    "harry_potter_book = Document('Harry Potter(Book)', 'J. K. Rowling', '... Forever Do not believe any thing is capable of thinking independently ...')\n",
    "harry_potter_movie = Video('Harry Potter(Movie)', 'J. K. Rowling', 120)\n",
    "\n",
    "print(harry_potter_book.object_type)\n",
    "print(harry_potter_movie.object_type)\n",
    "\n",
    "harry_potter_book.print_title()\n",
    "harry_potter_movie.print_title()\n",
    "\n",
    "print(harry_potter_book.get_context_length())\n",
    "print(harry_potter_movie.get_context_length())"
   ]
  },
  {
   "cell_type": "code",
   "execution_count": 3,
   "metadata": {},
   "outputs": [
    {
     "name": "stdout",
     "output_type": "stream",
     "text": [
      "parent class init called\n"
     ]
    },
    {
     "ename": "AttributeError",
     "evalue": "'Entity' object has no attribute 'title'",
     "output_type": "error",
     "traceback": [
      "\u001b[0;31m---------------------------------------------------------------------------\u001b[0m",
      "\u001b[0;31mAttributeError\u001b[0m                            Traceback (most recent call last)",
      "Cell \u001b[0;32mIn [3], line 2\u001b[0m\n\u001b[1;32m      1\u001b[0m just_entity \u001b[39m=\u001b[39m Entity(\u001b[39m'\u001b[39m\u001b[39mjust_entity\u001b[39m\u001b[39m'\u001b[39m)\n\u001b[0;32m----> 2\u001b[0m just_entity\u001b[39m.\u001b[39;49mprint_title()\n",
      "Cell \u001b[0;32mIn [2], line 10\u001b[0m, in \u001b[0;36mEntity.print_title\u001b[0;34m(self)\u001b[0m\n\u001b[1;32m      9\u001b[0m \u001b[39mdef\u001b[39;00m \u001b[39mprint_title\u001b[39m(\u001b[39mself\u001b[39m):\n\u001b[0;32m---> 10\u001b[0m     \u001b[39mprint\u001b[39m(\u001b[39mself\u001b[39;49m\u001b[39m.\u001b[39;49mtitle)\n",
      "\u001b[0;31mAttributeError\u001b[0m: 'Entity' object has no attribute 'title'"
     ]
    }
   ],
   "source": [
    "just_entity = Entity('just_entity')\n",
    "just_entity.print_title()"
   ]
  },
  {
   "cell_type": "code",
   "execution_count": 4,
   "metadata": {},
   "outputs": [
    {
     "name": "stdout",
     "output_type": "stream",
     "text": [
      "Harry Potter\n"
     ]
    },
    {
     "ename": "TypeError",
     "evalue": "Can't instantiate abstract class Entity with abstract methods get_title, set_title",
     "output_type": "error",
     "traceback": [
      "\u001b[0;31m---------------------------------------------------------------------------\u001b[0m",
      "\u001b[0;31mTypeError\u001b[0m                                 Traceback (most recent call last)",
      "Cell \u001b[0;32mIn [4], line 23\u001b[0m\n\u001b[1;32m     20\u001b[0m document\u001b[39m.\u001b[39mset_title(\u001b[39m'\u001b[39m\u001b[39mHarry Potter\u001b[39m\u001b[39m'\u001b[39m)\n\u001b[1;32m     21\u001b[0m \u001b[39mprint\u001b[39m(document\u001b[39m.\u001b[39mget_title())\n\u001b[0;32m---> 23\u001b[0m entity \u001b[39m=\u001b[39m Entity()\n",
      "\u001b[0;31mTypeError\u001b[0m: Can't instantiate abstract class Entity with abstract methods get_title, set_title"
     ]
    }
   ],
   "source": [
    "from abc import ABCMeta, abstractmethod\n",
    "\n",
    "class Entity(metaclass=ABCMeta):\n",
    "    @abstractmethod\n",
    "    def get_title(self):\n",
    "        pass\n",
    "    \n",
    "    @abstractmethod\n",
    "    def set_title(self, title):\n",
    "        pass\n",
    "\n",
    "class Document(Entity):\n",
    "    def get_title(self):\n",
    "        return self.title\n",
    "    \n",
    "    def set_title(self, title):\n",
    "        self.title = title\n",
    "\n",
    "document = Document()\n",
    "document.set_title('Harry Potter')\n",
    "print(document.get_title())\n",
    "\n",
    "entity = Entity()"
   ]
  },
  {
   "cell_type": "code",
   "execution_count": 5,
   "metadata": {},
   "outputs": [
    {
     "name": "stdout",
     "output_type": "stream",
     "text": [
      "enter D\n",
      "enter B\n",
      "enter C\n",
      "enter A\n",
      "leave A\n",
      "leave C\n",
      "leave B\n",
      "leave D\n"
     ]
    }
   ],
   "source": [
    "class A():\n",
    "    def __init__(self) -> None:\n",
    "        print('enter A')\n",
    "        print('leave A')\n",
    "\n",
    "class B(A):\n",
    "    def __init__(self) -> None:\n",
    "        print('enter B')\n",
    "        super().__init__()\n",
    "        print('leave B')\n",
    "\n",
    "class C(A):\n",
    "    def __init__(self) -> None:\n",
    "        print('enter C')\n",
    "        super().__init__()\n",
    "        print('leave C')\n",
    "    \n",
    "class D(B, C):\n",
    "    def __init__(self) -> None:\n",
    "        print('enter D')\n",
    "        super().__init__()\n",
    "        print('leave D')\n",
    "\n",
    "instance_d = D()"
   ]
  }
 ],
 "metadata": {
  "kernelspec": {
   "display_name": "Python 3",
   "language": "python",
   "name": "python3"
  },
  "language_info": {
   "codemirror_mode": {
    "name": "ipython",
    "version": 3
   },
   "file_extension": ".py",
   "mimetype": "text/x-python",
   "name": "python",
   "nbconvert_exporter": "python",
   "pygments_lexer": "ipython3",
   "version": "3.9.15"
  },
  "orig_nbformat": 4,
  "vscode": {
   "interpreter": {
    "hash": "b1f1f33a0e9a0f88519599c47c8c83e99f07ae3cefb2381915636f781f64bd27"
   }
  }
 },
 "nbformat": 4,
 "nbformat_minor": 2
}
