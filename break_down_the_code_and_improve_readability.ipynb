{
 "cells": [
  {
   "cell_type": "code",
   "execution_count": null,
   "metadata": {},
   "outputs": [],
   "source": [
    "# This is an example to demonstrate how to comment.\n",
    "# Please note this function must be used carefully.\n",
    "def solve(x):\n",
    "    if x == 1: # This is only one exception.\n",
    "        return False\n",
    "    return True\n"
   ]
  },
  {
   "cell_type": "code",
   "execution_count": null,
   "metadata": {},
   "outputs": [],
   "source": [
    "if i_am_rich:\n",
    "    money = 100\n",
    "    send(money)\n",
    "else:\n",
    "    money = 10\n",
    "    send(money)\n",
    "\n",
    "if i_am_rich:\n",
    "    money = 100\n",
    "else:\n",
    "    money = 10\n",
    "send(money)"
   ]
  },
  {
   "cell_type": "code",
   "execution_count": null,
   "metadata": {},
   "outputs": [],
   "source": [
    "def send(money):\n",
    "    if is_server_dead:\n",
    "        LOG('server dead')\n",
    "        return\n",
    "    else:\n",
    "        if is_server_timed_out:\n",
    "            LOG('server timed out')\n",
    "            return\n",
    "        else:\n",
    "            result = get_result_from_server()\n",
    "            if result == MONEY_IS_NOT_ENOUGH:\n",
    "                LOG('you do not have enough money')\n",
    "                return\n",
    "            else:\n",
    "                if result == TRANSACTION_SUCCEED:\n",
    "                    LOG('OK')\n",
    "                else:\n",
    "                    LOG('something wrong')\n",
    "                    return"
   ]
  },
  {
   "cell_type": "code",
   "execution_count": null,
   "metadata": {},
   "outputs": [],
   "source": [
    "def send(money):\n",
    "    if is_server_dead:\n",
    "        LOG('server dead')\n",
    "        return\n",
    "    \n",
    "    if is_server_timed_out:\n",
    "        LOG('server timed out')\n",
    "        return\n",
    "    \n",
    "    result = get_result_from_server()\n",
    "\n",
    "    if result == MONEY_IS_NOT_ENOUGH:\n",
    "        LOG('you do not have enough money')\n",
    "        return\n",
    "    \n",
    "    if result == TRANSACTION_SUCCEED:\n",
    "        LOG('OK')\n",
    "        return\n",
    "    \n",
    "    LOG('something wrong')\n"
   ]
  },
  {
   "cell_type": "code",
   "execution_count": null,
   "metadata": {},
   "outputs": [],
   "source": [
    "def solve(arr, target):\n",
    "    l, r = 0, len(arr) -1\n",
    "    ret = -1\n",
    "    while l <= r:\n",
    "        m = (l + r) // 2\n",
    "        if arr[m] * arr[m] > target:\n",
    "            ret = m\n",
    "            r = m -1\n",
    "        else:\n",
    "            l = m +1\n",
    "    if ret == -1:\n",
    "        return -1\n",
    "    else:\n",
    "        return arr[ret]"
   ]
  },
  {
   "cell_type": "code",
   "execution_count": 1,
   "metadata": {},
   "outputs": [
    {
     "name": "stdout",
     "output_type": "stream",
     "text": [
      "3\n",
      "4\n",
      "1\n",
      "-1\n"
     ]
    }
   ],
   "source": [
    "def comp(x, target):\n",
    "    return x * x > target\n",
    "\n",
    "\n",
    "def binary_search(arr, target):\n",
    "    l, r = 0, len(arr) - 1\n",
    "    ret = -1\n",
    "    while l <= r:\n",
    "        m = (l + r) // 2\n",
    "        if comp(arr[m], target):\n",
    "            ret = m\n",
    "            r = m - 1\n",
    "        else:\n",
    "            l = m + 1\n",
    "    return ret\n",
    "\n",
    "\n",
    "def solve(arr, target):\n",
    "    id = binary_search(arr, target)\n",
    "\n",
    "    if id != -1:\n",
    "        return arr[id]\n",
    "    return -1\n",
    "\n",
    "\n",
    "print(solve([1, 2, 3, 4, 5, 6], 8))\n",
    "print(solve([1, 2, 3, 4, 5, 6], 9))\n",
    "print(solve([1, 2, 3, 4, 5, 6], 0))\n",
    "print(solve([1, 2, 3, 4, 5, 6], 40))\n"
   ]
  },
  {
   "cell_type": "code",
   "execution_count": null,
   "metadata": {},
   "outputs": [],
   "source": [
    "class Person:\n",
    "    def __init__(self, name, sex, age, job_title, job_description, company_name) -> None:\n",
    "        self.name = name\n",
    "        self.sex = sex\n",
    "        self.age = age\n",
    "        self.job_title = job_title\n",
    "        self.job_description = job_description\n",
    "        self.company_name = company_name\n",
    "\n",
    "class Person:\n",
    "    def __init__(self, name, sex, age, job_title, job_description, company_name) -> None:\n",
    "        self.name = name\n",
    "        self.sex = sex\n",
    "        self.age = age\n",
    "        self.job = Job(job_title, job_description, company_name)\n",
    "\n",
    "class Job:\n",
    "    def __init__(self, job_title, job_description, company_name) -> None:\n",
    "        self.job_title = job_title\n",
    "        self.job_description = job_description\n",
    "        self.company_name = company_name"
   ]
  }
 ],
 "metadata": {
  "kernelspec": {
   "display_name": "geekbang-python-core",
   "language": "python",
   "name": "python3"
  },
  "language_info": {
   "codemirror_mode": {
    "name": "ipython",
    "version": 3
   },
   "file_extension": ".py",
   "mimetype": "text/x-python",
   "name": "python",
   "nbconvert_exporter": "python",
   "pygments_lexer": "ipython3",
   "version": "3.9.15"
  },
  "orig_nbformat": 4,
  "vscode": {
   "interpreter": {
    "hash": "80c78d802a3c1cded24c666231dc8c172ce01ee8af83719d58c29c99aa9f4b00"
   }
  }
 },
 "nbformat": 4,
 "nbformat_minor": 2
}
