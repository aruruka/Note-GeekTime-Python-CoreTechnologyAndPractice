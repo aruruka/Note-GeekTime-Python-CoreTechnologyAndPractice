{
 "cells": [
  {
   "cell_type": "code",
   "execution_count": 1,
   "metadata": {},
   "outputs": [
    {
     "ename": "ZeroDivisionError",
     "evalue": "division by zero",
     "output_type": "error",
     "traceback": [
      "\u001b[0;31m---------------------------------------------------------------------------\u001b[0m",
      "\u001b[0;31mZeroDivisionError\u001b[0m                         Traceback (most recent call last)",
      "Cell \u001b[0;32mIn [1], line 1\u001b[0m\n\u001b[0;32m----> 1\u001b[0m \u001b[39m10\u001b[39;49m \u001b[39m/\u001b[39;49m \u001b[39m0\u001b[39;49m\n",
      "\u001b[0;31mZeroDivisionError\u001b[0m: division by zero"
     ]
    }
   ],
   "source": [
    "10 / 0\n"
   ]
  },
  {
   "cell_type": "code",
   "execution_count": 2,
   "metadata": {},
   "outputs": [
    {
     "ename": "NameError",
     "evalue": "name 'order' is not defined",
     "output_type": "error",
     "traceback": [
      "\u001b[0;31m---------------------------------------------------------------------------\u001b[0m",
      "\u001b[0;31mNameError\u001b[0m                                 Traceback (most recent call last)",
      "Cell \u001b[0;32mIn [2], line 1\u001b[0m\n\u001b[0;32m----> 1\u001b[0m order \u001b[39m*\u001b[39m \u001b[39m2\u001b[39m\n",
      "\u001b[0;31mNameError\u001b[0m: name 'order' is not defined"
     ]
    }
   ],
   "source": [
    "order * 2\n"
   ]
  },
  {
   "cell_type": "code",
   "execution_count": 3,
   "metadata": {},
   "outputs": [
    {
     "ename": "TypeError",
     "evalue": "unsupported operand type(s) for +: 'int' and 'list'",
     "output_type": "error",
     "traceback": [
      "\u001b[0;31m---------------------------------------------------------------------------\u001b[0m",
      "\u001b[0;31mTypeError\u001b[0m                                 Traceback (most recent call last)",
      "Cell \u001b[0;32mIn [3], line 1\u001b[0m\n\u001b[0;32m----> 1\u001b[0m \u001b[39m1\u001b[39;49m \u001b[39m+\u001b[39;49m [\u001b[39m1\u001b[39;49m, \u001b[39m2\u001b[39;49m]\n",
      "\u001b[0;31mTypeError\u001b[0m: unsupported operand type(s) for +: 'int' and 'list'"
     ]
    }
   ],
   "source": [
    "1 + [1, 2]\n"
   ]
  },
  {
   "cell_type": "code",
   "execution_count": 7,
   "metadata": {},
   "outputs": [
    {
     "name": "stdout",
     "output_type": "stream",
     "text": [
      "Value Error: invalid literal for int() with base 10: 'a'\n",
      "continue\n"
     ]
    }
   ],
   "source": [
    "try:\n",
    "    s = input('please enter two numbers seperated by comma: ')\n",
    "    num1 = int(s.split(',')[0].strip())\n",
    "    num2 = int(s.split(',')[1].strip())\n",
    "    ...\n",
    "except ValueError as err:\n",
    "    print('Value Error: {}'.format(err))\n",
    "\n",
    "print('continue')"
   ]
  },
  {
   "cell_type": "code",
   "execution_count": 9,
   "metadata": {},
   "outputs": [
    {
     "name": "stdout",
     "output_type": "stream",
     "text": [
      "Error: invalid literal for int() with base 10: 'a'\n",
      "continue\n"
     ]
    }
   ],
   "source": [
    "try:\n",
    "    s = input('please enter two numbers seperated by comma: ')\n",
    "    num1 = int(s.split(',')[0].strip())\n",
    "    num2 = int(s.split(',')[1].strip())\n",
    "    ...\n",
    "except (ValueError, IndexError) as err:\n",
    "    print('Error: {}'.format(err))\n",
    "\n",
    "print('continue')"
   ]
  },
  {
   "cell_type": "code",
   "execution_count": null,
   "metadata": {},
   "outputs": [],
   "source": [
    "try:\n",
    "    s = input('please enter two numbers seperated by comma: ')\n",
    "    num1 = int(s.split(',')[0].strip())\n",
    "    num2 = int(s.split(',')[1].strip())\n",
    "    ...\n",
    "except ValueError as err:\n",
    "    print('Value Error: {}'.format(err))\n",
    "except IndexError as err:\n",
    "    print('Index Error: {}'.format(err))\n",
    "except:\n",
    "    print('Other error')\n",
    "\n",
    "print('continue')"
   ]
  },
  {
   "cell_type": "code",
   "execution_count": null,
   "metadata": {},
   "outputs": [],
   "source": [
    "import sys\n",
    "\n",
    "try:\n",
    "    f = open('file.txt', 'r')\n",
    "    ... # some data processing\n",
    "except OSError as err:\n",
    "    print('Os error: {}'.format)\n",
    "except:\n",
    "    print('Unexpected error:', sys.exc_info()[0])\n",
    "finally:\n",
    "    f.close()"
   ]
  },
  {
   "cell_type": "code",
   "execution_count": 10,
   "metadata": {},
   "outputs": [
    {
     "name": "stdout",
     "output_type": "stream",
     "text": [
      "error: 1 is invalid input\n"
     ]
    }
   ],
   "source": [
    "class MyInputError(Exception):\n",
    "    \"\"\"Exception raised when there're errors in input\"\"\"\n",
    "    def __init__(self, value: object) -> None: # 自定义异常类型的初始化\n",
    "        super().__init__(value)\n",
    "        self.value = value\n",
    "    def __str__(self) -> str: # 自定义异常类型的string表达形式\n",
    "        return (\"{} is invalid input\".format(repr(self.value)))\n",
    "\n",
    "try:\n",
    "    raise MyInputError(1) # 抛出MyInputError这个异常\n",
    "except MyInputError as err:\n",
    "    print('error: {}'.format(err))"
   ]
  },
  {
   "cell_type": "code",
   "execution_count": null,
   "metadata": {},
   "outputs": [],
   "source": [
    "import json\n",
    "\n",
    "try:\n",
    "    data = json.loads(raw_data)\n",
    "    ...\n",
    "except json.JSONDecodeError as err:\n",
    "    print('JSONDecodeError: {}'.format(err))"
   ]
  },
  {
   "cell_type": "code",
   "execution_count": null,
   "metadata": {},
   "outputs": [],
   "source": [
    "d = {'name': 'jason', 'age': 20}\n",
    "try:\n",
    "    value = d['dob']\n",
    "    ...\n",
    "except KeyError as err:\n",
    "    print('KeyError: {}'.format(err))\n"
   ]
  },
  {
   "cell_type": "code",
   "execution_count": null,
   "metadata": {},
   "outputs": [],
   "source": [
    "if 'dob' in d:\n",
    "    value = d['dob']"
   ]
  }
 ],
 "metadata": {
  "kernelspec": {
   "display_name": "Python 3.9.15 64-bit ('3.9.15')",
   "language": "python",
   "name": "python3"
  },
  "language_info": {
   "codemirror_mode": {
    "name": "ipython",
    "version": 3
   },
   "file_extension": ".py",
   "mimetype": "text/x-python",
   "name": "python",
   "nbconvert_exporter": "python",
   "pygments_lexer": "ipython3",
   "version": "3.9.15"
  },
  "orig_nbformat": 4,
  "vscode": {
   "interpreter": {
    "hash": "b1f1f33a0e9a0f88519599c47c8c83e99f07ae3cefb2381915636f781f64bd27"
   }
  }
 },
 "nbformat": 4,
 "nbformat_minor": 2
}
