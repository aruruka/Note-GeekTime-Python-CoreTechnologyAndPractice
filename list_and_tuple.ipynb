{
 "cells": [
  {
   "cell_type": "code",
   "execution_count": 1,
   "metadata": {},
   "outputs": [
    {
     "data": {
      "text/plain": [
       "[1, 2, 'hello', 'world']"
      ]
     },
     "execution_count": 1,
     "metadata": {},
     "output_type": "execute_result"
    }
   ],
   "source": [
    "l = [1, 2, 'hello', 'world'] # 列表中同时含有int和string类型的元素\n",
    "l"
   ]
  },
  {
   "cell_type": "code",
   "execution_count": 1,
   "metadata": {},
   "outputs": [
    {
     "data": {
      "text/plain": [
       "('jason', 22)"
      ]
     },
     "execution_count": 1,
     "metadata": {},
     "output_type": "execute_result"
    }
   ],
   "source": [
    "tup = ('jason', 22) # 元组中同时含有int和string类型的元素\n",
    "tup"
   ]
  },
  {
   "cell_type": "code",
   "execution_count": 5,
   "metadata": {},
   "outputs": [
    {
     "ename": "TypeError",
     "evalue": "'tuple' object does not support item assignment",
     "output_type": "error",
     "traceback": [
      "\u001b[0;31m---------------------------------------------------------------------------\u001b[0m",
      "\u001b[0;31mTypeError\u001b[0m                                 Traceback (most recent call last)",
      "Cell \u001b[0;32mIn [5], line 6\u001b[0m\n\u001b[1;32m      3\u001b[0m l\n\u001b[1;32m      5\u001b[0m tup \u001b[39m=\u001b[39m (\u001b[39m1\u001b[39m, \u001b[39m2\u001b[39m, \u001b[39m3\u001b[39m, \u001b[39m4\u001b[39m)\n\u001b[0;32m----> 6\u001b[0m tup[\u001b[39m3\u001b[39;49m] \u001b[39m=\u001b[39m \u001b[39m40\u001b[39m\n",
      "\u001b[0;31mTypeError\u001b[0m: 'tuple' object does not support item assignment"
     ]
    }
   ],
   "source": [
    "l = [1, 2, 3, 4]\n",
    "l[3] = 40\n",
    "l\n",
    "\n",
    "tup = (1, 2, 3, 4)\n",
    "tup[3] = 40"
   ]
  },
  {
   "cell_type": "code",
   "execution_count": 7,
   "metadata": {},
   "outputs": [
    {
     "data": {
      "text/plain": [
       "[1, 2, 3, 4, 5]"
      ]
     },
     "execution_count": 7,
     "metadata": {},
     "output_type": "execute_result"
    }
   ],
   "source": [
    "tup = (1, 2, 3, 4)\n",
    "new_tup = tup + (5, ) # 创建新的元组 new_tup，并依次填充原元组的值\n",
    "new_tup\n",
    "\n",
    "l = [1, 2, 3, 4]\n",
    "l.append(5) # 添加元素5到原列表的末尾\n",
    "l"
   ]
  },
  {
   "cell_type": "code",
   "execution_count": 9,
   "metadata": {},
   "outputs": [
    {
     "data": {
      "text/plain": [
       "4"
      ]
     },
     "execution_count": 9,
     "metadata": {},
     "output_type": "execute_result"
    }
   ],
   "source": [
    "l = [1, 2, 3, 4]\n",
    "l[-1]\n",
    "\n",
    "tup = (1, 2, 3, 4)\n",
    "tup[-1]"
   ]
  },
  {
   "cell_type": "code",
   "execution_count": 12,
   "metadata": {},
   "outputs": [
    {
     "data": {
      "text/plain": [
       "(2, 3)"
      ]
     },
     "execution_count": 12,
     "metadata": {},
     "output_type": "execute_result"
    }
   ],
   "source": [
    "l = [1, 2, 3, 4]\n",
    "l[1:3] # 返回列表中索引从1到2的子列表\n",
    "\n",
    "tup = (1, 2, 3, 4)\n",
    "tup[1:3]"
   ]
  },
  {
   "cell_type": "code",
   "execution_count": 13,
   "metadata": {},
   "outputs": [],
   "source": [
    "l = [[1,2,3], [4,5]]\n",
    "\n",
    "tup = ((1,2,3), (4,5))"
   ]
  },
  {
   "cell_type": "code",
   "execution_count": 15,
   "metadata": {},
   "outputs": [
    {
     "data": {
      "text/plain": [
       "(1, 2, 3)"
      ]
     },
     "execution_count": 15,
     "metadata": {},
     "output_type": "execute_result"
    }
   ],
   "source": [
    "list((1,2,3))\n",
    "\n",
    "tuple([1,2,3])"
   ]
  },
  {
   "cell_type": "code",
   "execution_count": 27,
   "metadata": {},
   "outputs": [
    {
     "data": {
      "text/plain": [
       "[1, 2, 3, 3, 7, 8]"
      ]
     },
     "execution_count": 27,
     "metadata": {},
     "output_type": "execute_result"
    }
   ],
   "source": [
    "l = [3, 2, 3, 7, 8, 1]\n",
    "l.count(3)\n",
    "l.index(7)\n",
    "l.reverse()\n",
    "l\n",
    "l.sort()\n",
    "l\n",
    "\n",
    "tup = (3, 2, 3, 7, 8, 1)\n",
    "tup.count(3)\n",
    "tup.index(7)\n",
    "list(reversed(tup))\n",
    "sorted(tup)"
   ]
  },
  {
   "cell_type": "code",
   "execution_count": 31,
   "metadata": {},
   "outputs": [
    {
     "name": "stdout",
     "output_type": "stream",
     "text": [
      "[1, 3, 5, 11, 15, 22]\n"
     ]
    }
   ],
   "source": [
    "import typing\n",
    "\n",
    "def list_duplicate_of(seq: typing.Sequence, item: object):\n",
    "    start_at = -1\n",
    "    locs = []\n",
    "    while True:\n",
    "        try:\n",
    "            loc = seq.index(item, start_at + 1)\n",
    "        except ValueError:\n",
    "            break\n",
    "        else:\n",
    "            locs.append(loc)\n",
    "            start_at = loc\n",
    "    return locs\n",
    "\n",
    "source = 'ABABDBAAEDSBQEWBAFLSAFB'\n",
    "print(list_duplicate_of(source, 'B'))"
   ]
  },
  {
   "cell_type": "code",
   "execution_count": 39,
   "metadata": {},
   "outputs": [
    {
     "name": "stdout",
     "output_type": "stream",
     "text": [
      "0 a\n",
      "1 b\n",
      "2 c\n"
     ]
    }
   ],
   "source": [
    "for i, item in enumerate(['a','b','c']):\n",
    "    print(i, item)"
   ]
  },
  {
   "cell_type": "code",
   "execution_count": 55,
   "metadata": {},
   "outputs": [
    {
     "data": {
      "text/plain": [
       "{'A': 1}"
      ]
     },
     "execution_count": 55,
     "metadata": {},
     "output_type": "execute_result"
    }
   ],
   "source": [
    "dictA = {}\n",
    "dictA['A'] = 1\n",
    "dictA"
   ]
  },
  {
   "cell_type": "code",
   "execution_count": 43,
   "metadata": {},
   "outputs": [
    {
     "data": {
      "text/plain": [
       "defaultdict(set, {})"
      ]
     },
     "execution_count": 43,
     "metadata": {},
     "output_type": "execute_result"
    }
   ],
   "source": [
    "from collections import defaultdict\n",
    "\n",
    "defaultdict(set)"
   ]
  },
  {
   "cell_type": "code",
   "execution_count": 54,
   "metadata": {},
   "outputs": [
    {
     "name": "stdout",
     "output_type": "stream",
     "text": [
      "0 A\n",
      "1 B\n",
      "2 A\n",
      "3 B\n",
      "4 D\n",
      "5 B\n",
      "6 A\n",
      "7 A\n",
      "8 E\n",
      "9 D\n",
      "10 S\n",
      "11 B\n",
      "12 Q\n",
      "13 E\n",
      "14 W\n",
      "15 B\n",
      "16 A\n",
      "17 F\n",
      "18 L\n",
      "19 S\n",
      "20 A\n",
      "21 F\n",
      "22 B\n"
     ]
    }
   ],
   "source": [
    "for i, item in enumerate(source):\n",
    "    print(i, item)"
   ]
  },
  {
   "cell_type": "code",
   "execution_count": 53,
   "metadata": {},
   "outputs": [
    {
     "name": "stdout",
     "output_type": "stream",
     "text": [
      "defaultdict(<class 'list'>, {'A': [0, 2, 6, 7, 16, 20], 'B': [1, 3, 5, 11, 15, 22], 'D': [4, 9], 'E': [8, 13], 'S': [10, 19], 'Q': [12], 'W': [14], 'F': [17, 21], 'L': [18]})\n",
      "defaultdict(<class 'list'>, {'A': [0, 2, 6, 7, 16, 20], 'B': [1, 3, 5, 11, 15, 22], 'D': [4, 9], 'E': [8, 13], 'S': [10, 19], 'Q': [12], 'W': [14], 'F': [17, 21], 'L': [18]})\n",
      "('A', [0, 2, 6, 7, 16, 20])\n",
      "('B', [1, 3, 5, 11, 15, 22])\n",
      "('D', [4, 9])\n",
      "('E', [8, 13])\n",
      "('S', [10, 19])\n",
      "('F', [17, 21])\n"
     ]
    }
   ],
   "source": [
    "def list_duplicates(seq: typing.Sequence):\n",
    "    tally = defaultdict(list)\n",
    "    for i, item in enumerate(seq):\n",
    "        tally[item].append(i)\n",
    "    print(tally)\n",
    "    return ((key, locs) for key, locs in tally.items() if len(locs) > 1)\n",
    "\n",
    "type(list_duplicates(source))\n",
    "\n",
    "for dup in list_duplicates(source):\n",
    "    print(dup)"
   ]
  },
  {
   "cell_type": "code",
   "execution_count": 58,
   "metadata": {},
   "outputs": [
    {
     "data": {
      "text/plain": [
       "104"
      ]
     },
     "execution_count": 58,
     "metadata": {},
     "output_type": "execute_result"
    }
   ],
   "source": [
    "l = [1,2,3]\n",
    "l.__sizeof__()\n",
    "\n",
    "tup = (1,2,3)\n",
    "tup.__sizeof__()"
   ]
  },
  {
   "cell_type": "code",
   "execution_count": 60,
   "metadata": {},
   "outputs": [
    {
     "data": {
      "text/plain": [
       "104"
      ]
     },
     "execution_count": 60,
     "metadata": {},
     "output_type": "execute_result"
    }
   ],
   "source": [
    "l = []\n",
    "l.__sizeof__() # 空列表的存储空间为40字节\n",
    "l.append(1)\n",
    "l.__sizeof__() # 加入了元素1之后，列表为其分配了可以存储4个元素的空间 (72 - 40) / 8 = 4\n",
    "l.append(2)\n",
    "l.__sizeof__() # 由于之前分配了空间，所以加入元素2，列表空间不变\n",
    "l.append(3)\n",
    "l.__sizeof__() # 同上\n",
    "l.append(4)\n",
    "l.__sizeof__() # 同上\n",
    "l.append(5)\n",
    "l.__sizeof__() # 加入元素5之后，列表的空间不足，所以又额外分配了可以存储4个元素的空间\n"
   ]
  },
  {
   "cell_type": "markdown",
   "metadata": {},
   "source": [
    "下面的例子，是计算初始化一个相同元素的列表和元组分别所需的时间。我们可以看到，元组的初始化速度，要比列表快 5 倍。\n",
    "\n",
    "```bash\n",
    "python3 -m timeit 'x=(1,2,3,4,5,6)'\n",
    "20000000 loops, best of 5: 9.97 nsec per loop\n",
    "python3 -m timeit 'x=[1,2,3,4,5,6]'\n",
    "5000000 loops, best of 5: 50.1 nsec per loop\n",
    "```"
   ]
  },
  {
   "cell_type": "markdown",
   "metadata": {},
   "source": [
    "但如果是索引操作的话，两者的速度差别非常小，几乎可以忽略不计。\n",
    "\n",
    "```bash\n",
    "python3 -m timeit -s 'x=[1,2,3,4,5,6]' 'y=x[3]'\n",
    "10000000 loops, best of 5: 22.2 nsec per loop\n",
    "python3 -m timeit -s 'x=(1,2,3,4,5,6)' 'y=x[3]'\n",
    "10000000 loops, best of 5: 21.9 nsec per loop\n",
    "```"
   ]
  },
  {
   "cell_type": "code",
   "execution_count": null,
   "metadata": {},
   "outputs": [],
   "source": []
  }
 ],
 "metadata": {
  "kernelspec": {
   "display_name": "Python 3.9.15 ('.venv': venv)",
   "language": "python",
   "name": "python3"
  },
  "language_info": {
   "codemirror_mode": {
    "name": "ipython",
    "version": 3
   },
   "file_extension": ".py",
   "mimetype": "text/x-python",
   "name": "python",
   "nbconvert_exporter": "python",
   "pygments_lexer": "ipython3",
   "version": "3.9.15"
  },
  "orig_nbformat": 4,
  "vscode": {
   "interpreter": {
    "hash": "7eadfa2bd6430d99cb80380f9aef9bbbb66f895de9cf3b823933534c0b8a5b53"
   }
  }
 },
 "nbformat": 4,
 "nbformat_minor": 2
}
