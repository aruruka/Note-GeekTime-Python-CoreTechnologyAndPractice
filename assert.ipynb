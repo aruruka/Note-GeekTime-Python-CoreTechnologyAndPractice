{
 "cells": [
  {
   "cell_type": "code",
   "execution_count": null,
   "metadata": {},
   "outputs": [],
   "source": [
    "# assert_stmt ::= \"assert\" expression [',' expression]\n",
    "assert 1 == 2\n",
    "\n",
    "if __debug__:\n",
    "    if not expression: raise AssertionError\n"
   ]
  },
  {
   "cell_type": "code",
   "execution_count": null,
   "metadata": {},
   "outputs": [],
   "source": [
    "assert 1 == 2, 'assertion is wrong'\n",
    "\n",
    "if __debug__:\n",
    "    if not expression1: raise AssertionError(expression2)"
   ]
  },
  {
   "cell_type": "code",
   "execution_count": 2,
   "metadata": {},
   "outputs": [],
   "source": [
    "def apply_discount(price, discount):\n",
    "    updated_price = price * (1 - discount)\n",
    "    assert 0 <= updated_price <= price, 'price should be greater or equal to 0 and less or equal to original price'\n",
    "    return updated_price\n"
   ]
  },
  {
   "cell_type": "code",
   "execution_count": 4,
   "metadata": {},
   "outputs": [
    {
     "ename": "AssertionError",
     "evalue": "price should be greater or equal to 0 and less or equal to original price",
     "output_type": "error",
     "traceback": [
      "\u001b[0;31m---------------------------------------------------------------------------\u001b[0m",
      "\u001b[0;31mAssertionError\u001b[0m                            Traceback (most recent call last)",
      "Cell \u001b[0;32mIn [4], line 3\u001b[0m\n\u001b[1;32m      1\u001b[0m apply_discount(\u001b[39m100\u001b[39m, \u001b[39m0.2\u001b[39m)\n\u001b[0;32m----> 3\u001b[0m apply_discount(\u001b[39m100\u001b[39;49m, \u001b[39m2\u001b[39;49m)\n",
      "Cell \u001b[0;32mIn [2], line 3\u001b[0m, in \u001b[0;36mapply_discount\u001b[0;34m(price, discount)\u001b[0m\n\u001b[1;32m      1\u001b[0m \u001b[39mdef\u001b[39;00m \u001b[39mapply_discount\u001b[39m(price, discount):\n\u001b[1;32m      2\u001b[0m     updated_price \u001b[39m=\u001b[39m price \u001b[39m*\u001b[39m (\u001b[39m1\u001b[39m \u001b[39m-\u001b[39m discount)\n\u001b[0;32m----> 3\u001b[0m     \u001b[39massert\u001b[39;00m \u001b[39m0\u001b[39m \u001b[39m<\u001b[39m\u001b[39m=\u001b[39m updated_price \u001b[39m<\u001b[39m\u001b[39m=\u001b[39m price, \u001b[39m'\u001b[39m\u001b[39mprice should be greater or equal to 0 and less or equal to original price\u001b[39m\u001b[39m'\u001b[39m\n\u001b[1;32m      4\u001b[0m     \u001b[39mreturn\u001b[39;00m updated_price\n",
      "\u001b[0;31mAssertionError\u001b[0m: price should be greater or equal to 0 and less or equal to original price"
     ]
    }
   ],
   "source": [
    "apply_discount(100, 0.2)\n",
    "\n",
    "apply_discount(100, 2)"
   ]
  },
  {
   "cell_type": "code",
   "execution_count": null,
   "metadata": {},
   "outputs": [],
   "source": [
    "def calculate_average_price(total_sales, num_sales):\n",
    "    assert num_sales > 0, 'number of sales should be greater than 0'\n",
    "    return total_sales / num_sales"
   ]
  },
  {
   "cell_type": "code",
   "execution_count": null,
   "metadata": {},
   "outputs": [],
   "source": [
    "def func(input):\n",
    "    assert isinstance(input, list), 'input must be type of list'\n",
    "    # 下面的操作都是基于前提：input 必须是 list\n",
    "    if len(input) == 1:\n",
    "        ...\n",
    "    elif len(input) == 2:\n",
    "        ...\n",
    "    else:\n",
    "        ..."
   ]
  },
  {
   "cell_type": "code",
   "execution_count": null,
   "metadata": {},
   "outputs": [],
   "source": [
    "def func(input):\n",
    "    if isinstance(input, list):\n",
    "        ...\n",
    "    else:\n",
    "        ..."
   ]
  },
  {
   "cell_type": "code",
   "execution_count": null,
   "metadata": {},
   "outputs": [],
   "source": [
    "def delete_course(user, course_id):\n",
    "    assert user_is_admin(user), 'user must be admin'\n",
    "    assert course_exist(course_id), 'course is must exist'\n",
    "    delete(course_id)"
   ]
  },
  {
   "cell_type": "code",
   "execution_count": null,
   "metadata": {},
   "outputs": [],
   "source": [
    "def delete_course(user, course_id):\n",
    "    if not user_is_admin(user):\n",
    "        raise Exception('user must be admin')\n",
    "    if not course_exist(course_id):\n",
    "        raise Exception('course id must exist')\n",
    "    delete(course_id)\n"
   ]
  },
  {
   "cell_type": "code",
   "execution_count": null,
   "metadata": {},
   "outputs": [],
   "source": [
    "def read_and_process(path):\n",
    "    assert file_exist(path), 'file must exist'\n",
    "    with open(path) as f:\n",
    "        ..."
   ]
  },
  {
   "cell_type": "code",
   "execution_count": null,
   "metadata": {},
   "outputs": [],
   "source": [
    "def read_and_process(path):\n",
    "    try:\n",
    "        with open(path) as f:\n",
    "            ...\n",
    "    except Exception as e:\n",
    "        ...\n"
   ]
  }
 ],
 "metadata": {
  "kernelspec": {
   "display_name": "geekbang-python-core",
   "language": "python",
   "name": "python3"
  },
  "language_info": {
   "codemirror_mode": {
    "name": "ipython",
    "version": 3
   },
   "file_extension": ".py",
   "mimetype": "text/x-python",
   "name": "python",
   "nbconvert_exporter": "python",
   "pygments_lexer": "ipython3",
   "version": "3.9.15"
  },
  "orig_nbformat": 4,
  "vscode": {
   "interpreter": {
    "hash": "80c78d802a3c1cded24c666231dc8c172ce01ee8af83719d58c29c99aa9f4b00"
   }
  }
 },
 "nbformat": 4,
 "nbformat_minor": 2
}
