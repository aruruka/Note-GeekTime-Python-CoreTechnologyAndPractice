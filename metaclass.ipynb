{
 "cells": [
  {
   "cell_type": "code",
   "execution_count": 12,
   "metadata": {},
   "outputs": [],
   "source": [
    "import yaml\n",
    "\n",
    "\n",
    "class Monster(yaml.YAMLObject):\n",
    "    yaml_tag = u'!Monster'\n",
    "\n",
    "    def __init__(self, name, hp, ac, attacks):\n",
    "        self.name = name\n",
    "        self.hp = hp\n",
    "        self.ac = ac\n",
    "        self.attacks = attacks\n",
    "\n",
    "    def __repr__(self):\n",
    "        return \"%s(name=%r, hp=%r, ac=%r, attacks=%r)\" % (self.__class__.__name__, self.name, self.hp, self.ac, self.attacks)\n",
    "    "
   ]
  },
  {
   "cell_type": "code",
   "execution_count": 4,
   "metadata": {},
   "outputs": [
    {
     "name": "stdout",
     "output_type": "stream",
     "text": [
      "['eric', 'justin', 'mary-kate']\n"
     ]
    }
   ],
   "source": [
    "names_yaml = \"\"\"\n",
    "- 'eric'\n",
    "- 'justin'\n",
    "- 'mary-kate'\n",
    "\"\"\"\n",
    "\n",
    "names = yaml.safe_load(names_yaml)\n",
    "print(names)"
   ]
  },
  {
   "cell_type": "code",
   "execution_count": 5,
   "metadata": {},
   "outputs": [],
   "source": [
    "yaml_loaded = yaml.safe_load(\"\"\"\n",
    "name: Cave spider\n",
    "hp: [2,6] # 2d6\n",
    "ac: 16\n",
    "attacks: [BITE, HURT]\n",
    "\"\"\") # type: ignore"
   ]
  },
  {
   "cell_type": "code",
   "execution_count": 6,
   "metadata": {},
   "outputs": [
    {
     "name": "stdout",
     "output_type": "stream",
     "text": [
      "{'name': 'Cave spider', 'hp': [2, 6], 'ac': 16, 'attacks': ['BITE', 'HURT']}\n"
     ]
    }
   ],
   "source": [
    "print(yaml_loaded)"
   ]
  },
  {
   "cell_type": "code",
   "execution_count": 14,
   "metadata": {},
   "outputs": [
    {
     "name": "stdout",
     "output_type": "stream",
     "text": [
      "Monster(name='Cave lizard', hp=[3, 6], ac=16, attacks=['BITE', 'HURT'])\n",
      "!Monster\n",
      "ac: 16\n",
      "attacks:\n",
      "- BITE\n",
      "- HURT\n",
      "hp:\n",
      "- 3\n",
      "- 6\n",
      "name: Cave lizard\n",
      "\n"
     ]
    }
   ],
   "source": [
    "monster1 = Monster(name='Cave spider', hp=[2, 6], ac=16, attacks=['BITE', 'HURT'])\n",
    "\n",
    "monster2 = Monster(name='Cave lizard', hp=[3,6], ac=16, attacks=['BITE','HURT'])\n",
    "\n",
    "print(monster2)\n",
    "print(yaml.dump(monster2))"
   ]
  },
  {
   "cell_type": "code",
   "execution_count": null,
   "metadata": {},
   "outputs": [],
   "source": [
    "registry = {}\n",
    "\n",
    "def add_constructor(target_class):\n",
    "    registry[target_class.yaml_tag] = target_class\n",
    "\n",
    "add_constructor(Monster)"
   ]
  },
  {
   "cell_type": "code",
   "execution_count": null,
   "metadata": {},
   "outputs": [],
   "source": [
    "# Python 2/3 相同部分\n",
    "class YAMLObjectMetaClass(type):\n",
    "    def __init__(cls, name, bases, kwds):\n",
    "        super(YAMLObjectMetaClass, cls).__init__(name, bases, kwds)\n",
    "        if 'yaml_tag' in kwds and kwds['yaml_tag'] is not None:\n",
    "            cls.yaml_loader.add_constructor(cls.yaml_tag, cls.from_yaml)\n",
    "    # 省略其余定义\n",
    "\n",
    "# Python 3\n",
    "class YAMLObject(metaclass=YAMLObjectMetaClass):\n",
    "    yaml_loader = Loader\n",
    "    # 省略其余定义\n",
    "\n",
    "# Python 2\n",
    "class YAMLObject(object):\n",
    "    __metaclass__ = YAMLObjectMetaClass\n",
    "    yaml_loader = Loader\n",
    "    # 省略其余定义"
   ]
  },
  {
   "cell_type": "code",
   "execution_count": 15,
   "metadata": {},
   "outputs": [
    {
     "name": "stdout",
     "output_type": "stream",
     "text": [
      "<class '__main__.MyClass'>\n",
      "<class 'type'>\n"
     ]
    }
   ],
   "source": [
    "class MyClass:\n",
    "    pass\n",
    "\n",
    "instance = MyClass()\n",
    "\n",
    "print(type(instance))\n",
    "\n",
    "print(type(MyClass))"
   ]
  },
  {
   "cell_type": "code",
   "execution_count": 20,
   "metadata": {},
   "outputs": [
    {
     "name": "stdout",
     "output_type": "stream",
     "text": [
      "<class '__main__.MyClass'> <__main__.MyClass object at 0x7fa744eed820>\n",
      "1\n",
      "<class '__main__.MyClass'> <__main__.MyClass object at 0x7fa745459e20>\n",
      "1\n"
     ]
    }
   ],
   "source": [
    "class MyClass:\n",
    "    data = 1\n",
    "\n",
    "instance = MyClass()\n",
    "print(MyClass, instance)\n",
    "print(instance.data)\n",
    "\n",
    "MyClass = type('MyClass', (), {'data': 1}) # type: ignore\n",
    "instance = MyClass()\n",
    "print(MyClass, instance)\n",
    "print(instance.data)"
   ]
  },
  {
   "cell_type": "code",
   "execution_count": null,
   "metadata": {},
   "outputs": [],
   "source": []
  }
 ],
 "metadata": {
  "kernelspec": {
   "display_name": "geekbang-python-core",
   "language": "python",
   "name": "python3"
  },
  "language_info": {
   "codemirror_mode": {
    "name": "ipython",
    "version": 3
   },
   "file_extension": ".py",
   "mimetype": "text/x-python",
   "name": "python",
   "nbconvert_exporter": "python",
   "pygments_lexer": "ipython3",
   "version": "3.9.15"
  },
  "orig_nbformat": 4,
  "vscode": {
   "interpreter": {
    "hash": "80c78d802a3c1cded24c666231dc8c172ce01ee8af83719d58c29c99aa9f4b00"
   }
  }
 },
 "nbformat": 4,
 "nbformat_minor": 2
}
