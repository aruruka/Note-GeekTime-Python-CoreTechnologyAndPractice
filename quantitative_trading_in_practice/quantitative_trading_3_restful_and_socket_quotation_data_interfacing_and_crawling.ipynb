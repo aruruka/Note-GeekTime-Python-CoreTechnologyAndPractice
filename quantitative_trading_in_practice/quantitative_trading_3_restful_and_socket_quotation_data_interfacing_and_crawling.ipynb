{
 "cells": [
  {
   "cell_type": "code",
   "execution_count": null,
   "metadata": {},
   "outputs": [],
   "source": [
    "import requests\n",
    "# response = requests.get('https://pythonexamples.org/python-basic-examples/')\n",
    "response = requests.get('https://api.gemini.com/v1/book/btcusd')\n",
    "print(response.json())"
   ]
  },
  {
   "cell_type": "code",
   "execution_count": 2,
   "metadata": {},
   "outputs": [],
   "source": [
    "import requests\n",
    "\n",
    "def get_orderbook():\n",
    "    orderbook = requests.get(\"https://api.gemini.com/v1/book/btcusd\").json()"
   ]
  },
  {
   "cell_type": "code",
   "execution_count": 3,
   "metadata": {},
   "outputs": [
    {
     "name": "stdout",
     "output_type": "stream",
     "text": [
      "Latency is 2960.6118452000032 ms\n"
     ]
    }
   ],
   "source": [
    "import requests\n",
    "import timeit\n",
    "\n",
    "def get_orderbook():\n",
    "    orderbook = requests.get(\"https://api.gemini.com/v1/book/btcusd\").json()\n",
    "\n",
    "n = 10\n",
    "latency = timeit.timeit('get_orderbook()', setup='from __main__ import get_orderbook', number=n) * 1.0 / n\n",
    "print('Latency is {} ms'.format(latency * 1000))"
   ]
  },
  {
   "cell_type": "code",
   "execution_count": 6,
   "metadata": {},
   "outputs": [
    {
     "name": "stderr",
     "output_type": "stream",
     "text": [
      "ERROR:websocket:Handshake status 200 OK - goodbye\n"
     ]
    }
   ],
   "source": [
    "import time\n",
    "import websocket\n",
    "import _thread\n",
    "\n",
    "def on_message(ws, message):\n",
    "    print('Received: ' + message)\n",
    "\n",
    "# 在接收到服务器发送消息时调用\n",
    "def on_open(ws):\n",
    "    # 线程运行函数\n",
    "    def gao():\n",
    "        # 往服务器依次发送0-4，每次发送完休息0.01秒\n",
    "        for i in range(5):\n",
    "            time.sleep(0.01)\n",
    "            msg = \"{0}\".format(i)\n",
    "            ws.send(msg)\n",
    "            print('Sent: ' + msg)\n",
    "        # 休息1秒钟用于接受服务器回复的消息\n",
    "        time.sleep(1)\n",
    "\n",
    "        # 关闭Websocket的连接\n",
    "        ws.close()\n",
    "        print(\"Websocket closed\")\n",
    "    \n",
    "    # 在另一个线程运行gao()函数\n",
    "    _thread.start_new_thread(gao, ())\n",
    "\n",
    "if __name__ == \"__main__\":\n",
    "    ws = websocket.WebSocketApp(\"ws://echo.websocket.org/\",\n",
    "    on_message = on_message, \n",
    "    on_open = on_open)\n",
    "\n",
    "    ws.run_forever()"
   ]
  },
  {
   "cell_type": "code",
   "execution_count": 3,
   "metadata": {},
   "outputs": [
    {
     "name": "stdout",
     "output_type": "stream",
     "text": [
      "{\"type\":\"update\",\"eventId\":162877043088,\"socket_sequence\":0,\"events\":[{\"type\":\"change\",\"reason\":\"initial\",\"price\":\"21682.01\",\"delta\":\"0.03400341\",\"remaining\":\"0.03400341\",\"side\":\"bid\"},{\"type\":\"change\",\"reason\":\"initial\",\"price\":\"21691.41\",\"delta\":\"0.015009\",\"remaining\":\"0.015009\",\"side\":\"ask\"}]}\n",
      "{\"type\":\"update\",\"eventId\":162877043246,\"timestamp\":1676110896,\"timestampms\":1676110896512,\"socket_sequence\":1,\"events\":[{\"type\":\"change\",\"side\":\"bid\",\"price\":\"21682.02\",\"remaining\":\"0.05\",\"reason\":\"top-of-book\"}]}\n",
      "{\"type\":\"update\",\"eventId\":162877043250,\"timestamp\":1676110896,\"timestampms\":1676110896513,\"socket_sequence\":2,\"events\":[{\"type\":\"change\",\"side\":\"bid\",\"price\":\"21682.03\",\"remaining\":\"0.03400341\",\"reason\":\"top-of-book\"}]}\n",
      "{\"type\":\"update\",\"eventId\":162877043394,\"timestamp\":1676110896,\"timestampms\":1676110896772,\"socket_sequence\":3,\"events\":[{\"type\":\"change\",\"side\":\"bid\",\"price\":\"21682.04\",\"remaining\":\"0.05\",\"reason\":\"top-of-book\"}]}\n",
      "{\"type\":\"update\",\"eventId\":162877043404,\"timestamp\":1676110896,\"timestampms\":1676110896773,\"socket_sequence\":4,\"events\":[{\"type\":\"change\",\"side\":\"bid\",\"price\":\"21682.05\",\"remaining\":\"0.03400341\",\"reason\":\"top-of-book\"}]}\n"
     ]
    }
   ],
   "source": [
    "import ssl\n",
    "import websocket\n",
    "import json\n",
    "\n",
    "# 全局计数器\n",
    "count = 5\n",
    "\n",
    "\n",
    "def on_message(ws, message):\n",
    "    global count\n",
    "    print(message)\n",
    "    count -= 1\n",
    "    # 接收了5次消息之后关闭websocket连接\n",
    "    if count == 0:\n",
    "        ws.close()\n",
    "\n",
    "\n",
    "if __name__ == \"__main__\":\n",
    "    ws = websocket.WebSocketApp(\n",
    "        \"wss://api.gemini.com/v1/marketdata/btcusd?top_of_book=true&offers=true\",\n",
    "        on_message=on_message)\n",
    "    ws.run_forever(sslopt={\"cert_reqs\": ssl.CERT_NONE})\n"
   ]
  },
  {
   "cell_type": "code",
   "execution_count": null,
   "metadata": {},
   "outputs": [],
   "source": [
    "import copy\n",
    "import json\n",
    "import ssl\n",
    "import time\n",
    "import websocket\n",
    "\n",
    "\n",
    "class OrderBook(object):\n",
    "\n",
    "    BIDS = 'bid'\n",
    "    ASKS = 'ask'\n",
    "\n",
    "    def __init__(self, limit=20) -> None:\n",
    "\n",
    "        self.limit = limit\n",
    "\n",
    "        # (price, amount)\n",
    "        self.bids = {}\n",
    "        self.asks = {}\n",
    "\n",
    "        self.bids_sorted = []\n",
    "        self.asks_sorted = []\n",
    "\n",
    "    def insert(self, price, amount, direction):\n",
    "        if direction == self.BIDS:\n",
    "            if amount == 0:\n",
    "                if price in self.bids:\n",
    "                    del self.bids[price]\n",
    "            else:\n",
    "                self.bids[price] = amount\n",
    "        elif direction == self.ASKS:\n",
    "            if amount == 0:\n",
    "                if price in self.asks:\n",
    "                    del self.asks[price]\n",
    "            else:\n",
    "                self.asks[price] = amount\n",
    "        else:\n",
    "            print('WARNING: unknown direction {}'.format(direction))\n",
    "\n",
    "    def sort_and_truncate(self):\n",
    "        # sort\n",
    "        self.bids_sorted = sorted(\n",
    "            [(price, amount) for price, amount in self.bids.items()], reverse=True)\n",
    "        self.asks_sorted = sorted([(price, amount)\n",
    "                                  for price, amount in self.asks.items()])\n",
    "\n",
    "        # truncate\n",
    "        self.bids_sorted = self.bids_sorted[:self.limit]\n",
    "        self.asks_sorted = self.asks_sorted[:self.limit]\n",
    "\n",
    "        # copy back to bids and asks\n",
    "        self.bids = dict(self.bids_sorted)\n",
    "        self.asks = dict(self.asks_sorted)\n",
    "\n",
    "    def get_copy_of_bids_and_asks(self):\n",
    "        return copy.deepcopy(self.bids_sorted), copy.deepcopy(self.asks_sorted)\n",
    "\n",
    "\n",
    "class Crawler:\n",
    "    def __init__(self, symbol, output_file) -> None:\n",
    "        self.orderbook = OrderBook(limit=10)\n",
    "        self.output_file = output_file\n",
    "\n",
    "        # self.ws = websocket.WebSocketApp('wss://api.gemini.com/v1/marketdata/{}'.format(symbol),\n",
    "        #                                  on_message=self.on_message)\n",
    "        self.ws = websocket.WebSocketApp('wss://api.gemini.com/v1/marketdata/{}'.format(symbol),\n",
    "                                         on_message=lambda ws, message: self.on_message(message))\n",
    "        self.ws.run_forever(sslopt={'cert_reqs': ssl.CERT_NONE})\n",
    "\n",
    "    def on_message(self, message):\n",
    "        # 对收到的信进行处理，然后发送给 orderbook\n",
    "        data = json.loads(message)\n",
    "        for event in data['events']:\n",
    "            price, amount, direction = float(event['price']), float(\n",
    "                event['remaining']), event['side']\n",
    "            self.orderbook.insert(price, amount, direction)\n",
    "\n",
    "        # 整理 orderbook，排序，只选取我们需要的前几个\n",
    "        self.orderbook.sort_and_truncate()\n",
    "\n",
    "        # 输出到文件\n",
    "        with open(self.output_file, 'a+') as f:\n",
    "            bids, asks = self.orderbook.get_copy_of_bids_and_asks()\n",
    "            output = {\n",
    "                'bids': bids,\n",
    "                'asks': asks,\n",
    "                'ts': int(time.time() * 1000)\n",
    "            }\n",
    "            f.write(json.dumps(output) + '\\n')\n",
    "\n",
    "\n",
    "if __name__ == '__main__':\n",
    "    crawler = Crawler(symbol='BTCUSD', output_file='BTCUSD.txt')\n"
   ]
  },
  {
   "cell_type": "code",
   "execution_count": 1,
   "metadata": {},
   "outputs": [
    {
     "name": "stdout",
     "output_type": "stream",
     "text": [
      "__main__\n"
     ]
    }
   ],
   "source": [
    "print(__name__)"
   ]
  }
 ],
 "metadata": {
  "kernelspec": {
   "display_name": "geekbang-python-core",
   "language": "python",
   "name": "python3"
  },
  "language_info": {
   "codemirror_mode": {
    "name": "ipython",
    "version": 3
   },
   "file_extension": ".py",
   "mimetype": "text/x-python",
   "name": "python",
   "nbconvert_exporter": "python",
   "pygments_lexer": "ipython3",
   "version": "3.9.15"
  },
  "orig_nbformat": 4,
  "vscode": {
   "interpreter": {
    "hash": "80c78d802a3c1cded24c666231dc8c172ce01ee8af83719d58c29c99aa9f4b00"
   }
  }
 },
 "nbformat": 4,
 "nbformat_minor": 2
}
