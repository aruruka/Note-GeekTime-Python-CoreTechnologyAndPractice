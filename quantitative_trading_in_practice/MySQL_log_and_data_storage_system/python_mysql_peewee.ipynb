{
 "cells": [
  {
   "cell_type": "code",
   "execution_count": null,
   "metadata": {},
   "outputs": [],
   "source": [
    "import peewee\n",
    "from peewee import *\n",
    "\n",
    "db = MySQLDatabase('python-mysql-test', user='root', passwd='M6VUEnSUEqVb', host='127.0.0.1', port=3306)\n",
    "\n",
    "\n",
    "class Price(peewee.Model):\n",
    "    timestamp = peewee.DateTimeField(primary_key=True)\n",
    "    BTCUSD = peewee.FloatField()\n",
    "\n",
    "    class Meta:\n",
    "        database = db\n",
    "\n",
    "\n",
    "def test_peewee():\n",
    "    Price.create_table()\n",
    "    price = Price.create(timestamp='2019-06-07 13:17:18', BTCUSD='12345.67')\n",
    "    price.save()\n",
    "\n",
    "\n",
    "test_peewee()\n"
   ]
  }
 ],
 "metadata": {
  "kernelspec": {
   "display_name": "geekbang-python-core",
   "language": "python",
   "name": "python3"
  },
  "language_info": {
   "codemirror_mode": {
    "name": "ipython",
    "version": 3
   },
   "file_extension": ".py",
   "mimetype": "text/x-python",
   "name": "python",
   "nbconvert_exporter": "python",
   "pygments_lexer": "ipython3",
   "version": "3.9.15"
  },
  "orig_nbformat": 4,
  "vscode": {
   "interpreter": {
    "hash": "80c78d802a3c1cded24c666231dc8c172ce01ee8af83719d58c29c99aa9f4b00"
   }
  }
 },
 "nbformat": 4,
 "nbformat_minor": 2
}
