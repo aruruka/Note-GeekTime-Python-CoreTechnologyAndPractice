{
 "cells": [
  {
   "cell_type": "code",
   "execution_count": null,
   "metadata": {},
   "outputs": [],
   "source": [
    "# 订阅者 1\n",
    "import zmq\n",
    "\n",
    "\n",
    "def run():\n",
    "    context = zmq.Context()\n",
    "    socket = context.socket(zmq.SUB)\n",
    "    socket.connect('tcp://127.0.0.1:6666')\n",
    "    socket.setsockopt_string(zmq.SUBSCRIBE, '')\n",
    "\n",
    "    print('client 1')\n",
    "    while True:\n",
    "        msg = socket.recv()\n",
    "        print(\"msg: %s\" % msg)\n",
    "\n",
    "\n",
    "if __name__ == '__main__':\n",
    "    run()\n"
   ]
  },
  {
   "cell_type": "code",
   "execution_count": null,
   "metadata": {},
   "outputs": [],
   "source": [
    "# 订阅者 2\n",
    "import zmq\n",
    "\n",
    "\n",
    "def run():\n",
    "    context = zmq.Context()\n",
    "    socket = context.socket(zmq.SUB)\n",
    "    socket.connect('tcp://127.0.0.1:6666')\n",
    "    socket.setsockopt_string(zmq.SUBSCRIBE, '')\n",
    "\n",
    "    print('client 2')\n",
    "    while True:\n",
    "        msg = socket.recv()\n",
    "        print(\"msg: %s\" % msg)\n",
    "\n",
    "\n",
    "if __name__ == '__main__':\n",
    "    run()"
   ]
  },
  {
   "cell_type": "code",
   "execution_count": null,
   "metadata": {},
   "outputs": [],
   "source": [
    "# 发布者\n",
    "import time\n",
    "import zmq\n",
    "\n",
    "\n",
    "def run():\n",
    "    context = zmq.Context()\n",
    "    socket = context.socket(zmq.PUB)\n",
    "    socket.bind('tcp://*:6666')\n",
    "\n",
    "    cnt = 1\n",
    "\n",
    "    while True:\n",
    "        time.sleep(1)\n",
    "        socket.send_string('server cnt {}'.format(cnt))\n",
    "        print('send {}'.format(cnt))\n",
    "        cnt += 1\n",
    "\n",
    "\n",
    "if __name__ == '__main__':\n",
    "    run()\n"
   ]
  }
 ],
 "metadata": {
  "kernelspec": {
   "display_name": "geekbang-python-core",
   "language": "python",
   "name": "python3"
  },
  "language_info": {
   "name": "python",
   "version": "3.9.15"
  },
  "orig_nbformat": 4,
  "vscode": {
   "interpreter": {
    "hash": "80c78d802a3c1cded24c666231dc8c172ce01ee8af83719d58c29c99aa9f4b00"
   }
  }
 },
 "nbformat": 4,
 "nbformat_minor": 2
}
