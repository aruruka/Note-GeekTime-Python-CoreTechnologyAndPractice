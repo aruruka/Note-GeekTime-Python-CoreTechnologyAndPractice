{
 "cells": [
  {
   "cell_type": "code",
   "execution_count": null,
   "metadata": {},
   "outputs": [],
   "source": [
    "from os import path\n",
    "import pandas as pd\n",
    "\n",
    "\n",
    "def assert_msg(condition, msg):\n",
    "    if not condition:\n",
    "        raise Exception(msg)\n",
    "\n",
    "\n",
    "def read_file(filename):\n",
    "    # 获得文件绝对路径\n",
    "    filepath = path.join(path.dirname(__file__), filename)\n",
    "\n",
    "    # 判定文件是否存在\n",
    "    assert_msg(path.exists(filepath), \"文件不存在\")\n",
    "\n",
    "    # 读取CSV文件并返回\n",
    "    return pd.read_csv(filepath,\n",
    "                       index_col=0,\n",
    "                       parse_dates=True,\n",
    "                       infer_datetime_format=True)\n",
    "\n",
    "\n",
    "BTCUSD = read_file('BTCUSD_GEMINI.csv')\n",
    "assert_msg(BTCUSD.__len__() > 0, '读取失败')\n",
    "print(BTCUSD.head())"
   ]
  },
  {
   "cell_type": "code",
   "execution_count": null,
   "metadata": {},
   "outputs": [],
   "source": [
    "import os\n",
    "from os import path\n",
    "\n",
    "current_dir = os.getcwd()\n",
    "filename = 'BTCUSD_GEMINI.csv'\n",
    "print(__file__)\n",
    "path.dirname(__file__)\n",
    "filepath = path.join(path.dirname(__file__), filename)"
   ]
  },
  {
   "cell_type": "code",
   "execution_count": 21,
   "metadata": {},
   "outputs": [
    {
     "name": "stdout",
     "output_type": "stream",
     "text": [
      "DataFrame contains null or empty values.\n"
     ]
    }
   ],
   "source": [
    "import pandas as pd\n",
    "\n",
    "# create a sample dataframe\n",
    "df = pd.DataFrame({\n",
    "    'A': [1, 2, 3],\n",
    "    'B': [4, 5, None],\n",
    "    'C': ['', 'foo', 'bar']\n",
    "})\n",
    "\n",
    "# check if any column contains null or empty values\n",
    "if df.isnull().any().any() or (df.applymap(lambda x: x == '').any().any()):\n",
    "    print(\"DataFrame contains null or empty values.\")\n",
    "else:\n",
    "    print(\"DataFrame does not contain null or empty values.\")\n"
   ]
  },
  {
   "cell_type": "code",
   "execution_count": 4,
   "metadata": {},
   "outputs": [
    {
     "name": "stdout",
     "output_type": "stream",
     "text": [
      "False\n"
     ]
    }
   ],
   "source": [
    "# print(df[['A', 'B', 'C']].max())\n",
    "print(df[['A', 'B', 'C']].max().isnull().any())\n"
   ]
  },
  {
   "cell_type": "code",
   "execution_count": 22,
   "metadata": {},
   "outputs": [
    {
     "name": "stdout",
     "output_type": "stream",
     "text": [
      "   A    a    C\n",
      "0  1  4.0     \n",
      "1  2  5.0  foo\n",
      "2  3  NaN  bar\n",
      "RangeIndex(start=0, stop=3, step=1)\n",
      "True\n"
     ]
    }
   ],
   "source": [
    "print(df.head())\n",
    "print(df.index)\n",
    "print(df.index.is_monotonic_increasing)"
   ]
  },
  {
   "cell_type": "code",
   "execution_count": 2,
   "metadata": {},
   "outputs": [
    {
     "name": "stdout",
     "output_type": "stream",
     "text": [
      "True\n"
     ]
    }
   ],
   "source": [
    "l1 = [1, 2, 3, 4, 7]\n",
    "l2 = [1, 1, 1, 5, 6]\n",
    "print(l1[-2] < l2[-2] and l1[-1] > l2[-1])"
   ]
  },
  {
   "cell_type": "code",
   "execution_count": null,
   "metadata": {},
   "outputs": [],
   "source": [
    "def next(self, tick):\n",
    "    # 如果此时快线刚好越过慢线，买入全部\n",
    "    if crossover(self.sma1[:tick], self.sma2[:tick]):\n",
    "        self.buy()\n",
    "    \n",
    "    if # 如果是慢线刚好越过快线，卖出全部\n",
    "    elif crossover(self.sma2[:tick], self.sma1[:tick]):\n",
    "        self.sell()\n",
    "\n",
    "    # 否则，这个时刻不执行任何操作\n",
    "    else:\n",
    "        pass"
   ]
  },
  {
   "cell_type": "code",
   "execution_count": 2,
   "metadata": {},
   "outputs": [
    {
     "name": "stdout",
     "output_type": "stream",
     "text": [
      "/home/raymondyan/geekbang/Python-CoreTechnologyAndPractice/quantitative_trading_in_practice\n"
     ]
    }
   ],
   "source": [
    "import os\n",
    "\n",
    "print(os.getcwd())"
   ]
  },
  {
   "cell_type": "code",
   "execution_count": 5,
   "metadata": {},
   "outputs": [
    {
     "data": {
      "text/plain": [
       "'/home/raymondyan/geekbang/Python-CoreTechnologyAndPractice/quantitative_trading_in_practice/BTCUSD_GEMINI.csv'"
      ]
     },
     "execution_count": 5,
     "metadata": {},
     "output_type": "execute_result"
    }
   ],
   "source": [
    "from os import path\n",
    "path.join(path.dirname(os.getcwd()), 'quantitative_trading_in_practice/BTCUSD_GEMINI.csv')"
   ]
  }
 ],
 "metadata": {
  "kernelspec": {
   "display_name": "geekbang-python-core",
   "language": "python",
   "name": "python3"
  },
  "language_info": {
   "codemirror_mode": {
    "name": "ipython",
    "version": 3
   },
   "file_extension": ".py",
   "mimetype": "text/x-python",
   "name": "python",
   "nbconvert_exporter": "python",
   "pygments_lexer": "ipython3",
   "version": "3.9.15"
  },
  "orig_nbformat": 4,
  "vscode": {
   "interpreter": {
    "hash": "80c78d802a3c1cded24c666231dc8c172ce01ee8af83719d58c29c99aa9f4b00"
   }
  }
 },
 "nbformat": 4,
 "nbformat_minor": 2
}
