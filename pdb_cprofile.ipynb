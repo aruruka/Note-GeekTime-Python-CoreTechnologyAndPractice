{
 "cells": [
  {
   "cell_type": "code",
   "execution_count": null,
   "metadata": {},
   "outputs": [],
   "source": [
    "a = 1\n",
    "b = 2\n",
    "import pdb\n",
    "pdb.set_trace()\n",
    "c = 3\n",
    "print(a + b + c)"
   ]
  },
  {
   "cell_type": "code",
   "execution_count": null,
   "metadata": {},
   "outputs": [],
   "source": [
    "def func():\n",
    "    print('enter func()')\n",
    "\n",
    "a = 1\n",
    "b = 2\n",
    "import pdb\n",
    "pdb.set_trace()\n",
    "func()\n",
    "c = 3\n",
    "print(a + b + c)"
   ]
  },
  {
   "cell_type": "code",
   "execution_count": null,
   "metadata": {},
   "outputs": [],
   "source": [
    "def fib(n):\n",
    "    if n == 0:\n",
    "        return 0\n",
    "    elif n == 1:\n",
    "        return 1\n",
    "    else:\n",
    "        return fib(n - 1) + fib(n - 2)\n",
    "\n",
    "\n",
    "def fib_seq(n):\n",
    "    res = []\n",
    "    if n > 0:\n",
    "        res.extend(fib_seq(n - 1))\n",
    "    res.append(fib(n))\n",
    "    return res\n",
    "\n",
    "fib_seq(30)"
   ]
  },
  {
   "cell_type": "code",
   "execution_count": 2,
   "metadata": {},
   "outputs": [
    {
     "name": "stdout",
     "output_type": "stream",
     "text": [
      "         7049218 function calls (96 primitive calls) in 3.067 seconds\n",
      "\n",
      "   Ordered by: standard name\n",
      "\n",
      "   ncalls  tottime  percall  cumtime  percall filename:lineno(function)\n",
      "7049123/31    3.067    0.000    3.067    0.099 4038688320.py:1(fib)\n",
      "     31/1    0.000    0.000    3.067    3.067 4038688320.py:10(fib_seq)\n",
      "        1    0.000    0.000    3.067    3.067 <string>:1(<module>)\n",
      "        1    0.000    0.000    3.067    3.067 {built-in method builtins.exec}\n",
      "       31    0.000    0.000    0.000    0.000 {method 'append' of 'list' objects}\n",
      "        1    0.000    0.000    0.000    0.000 {method 'disable' of '_lsprof.Profiler' objects}\n",
      "       30    0.000    0.000    0.000    0.000 {method 'extend' of 'list' objects}\n",
      "\n",
      "\n"
     ]
    }
   ],
   "source": [
    "import cProfile\n",
    "\n",
    "cProfile.run('fib_seq(30)')"
   ]
  },
  {
   "cell_type": "code",
   "execution_count": 3,
   "metadata": {},
   "outputs": [
    {
     "name": "stdout",
     "output_type": "stream",
     "text": [
      "         215 function calls (127 primitive calls) in 0.000 seconds\n",
      "\n",
      "   Ordered by: standard name\n",
      "\n",
      "   ncalls  tottime  percall  cumtime  percall filename:lineno(function)\n",
      "       31    0.000    0.000    0.000    0.000 2229080859.py:11(fib)\n",
      "     31/1    0.000    0.000    0.000    0.000 2229080859.py:20(fib_seq)\n",
      "    89/31    0.000    0.000    0.000    0.000 2229080859.py:4(helper)\n",
      "        1    0.000    0.000    0.000    0.000 <string>:1(<module>)\n",
      "        1    0.000    0.000    0.000    0.000 {built-in method builtins.exec}\n",
      "       31    0.000    0.000    0.000    0.000 {method 'append' of 'list' objects}\n",
      "        1    0.000    0.000    0.000    0.000 {method 'disable' of '_lsprof.Profiler' objects}\n",
      "       30    0.000    0.000    0.000    0.000 {method 'extend' of 'list' objects}\n",
      "\n",
      "\n"
     ]
    }
   ],
   "source": [
    "def memoize(f):\n",
    "    memo = {}\n",
    "\n",
    "    def helper(x):\n",
    "        if x not in memo:\n",
    "            memo[x] = f(x)\n",
    "        return memo[x]\n",
    "    return helper\n",
    "\n",
    "\n",
    "@memoize\n",
    "def fib(n):\n",
    "    if n == 0:\n",
    "        return 0\n",
    "    elif n == 1:\n",
    "        return 1\n",
    "    else:\n",
    "        return fib(n - 1) + fib(n - 2)\n",
    "    \n",
    "def fib_seq(n):\n",
    "    res = []\n",
    "    if n > 0:\n",
    "        res.extend(fib_seq(n - 1))\n",
    "    res.append(fib(n))\n",
    "    return res\n",
    "\n",
    "cProfile.run('fib_seq(30)')\n"
   ]
  }
 ],
 "metadata": {
  "kernelspec": {
   "display_name": "geekbang-python-core",
   "language": "python",
   "name": "python3"
  },
  "language_info": {
   "codemirror_mode": {
    "name": "ipython",
    "version": 3
   },
   "file_extension": ".py",
   "mimetype": "text/x-python",
   "name": "python",
   "nbconvert_exporter": "python",
   "pygments_lexer": "ipython3",
   "version": "3.9.15 (main, Nov 21 2022, 04:17:42) \n[GCC 9.4.0]"
  },
  "orig_nbformat": 4,
  "vscode": {
   "interpreter": {
    "hash": "80c78d802a3c1cded24c666231dc8c172ce01ee8af83719d58c29c99aa9f4b00"
   }
  }
 },
 "nbformat": 4,
 "nbformat_minor": 2
}
