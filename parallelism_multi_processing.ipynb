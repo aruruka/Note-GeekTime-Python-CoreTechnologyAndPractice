{
 "cells": [
  {
   "cell_type": "code",
   "execution_count": 1,
   "metadata": {},
   "outputs": [
    {
     "name": "stdout",
     "output_type": "stream",
     "text": [
      "333333283333335000000\n",
      "333333383333335000000\n",
      "333333483333355000001\n",
      "333333583333395000005\n",
      "333333683333455000014\n",
      "333333783333535000030\n",
      "333333883333635000055\n",
      "333333983333755000091\n",
      "333334083333895000140\n",
      "333334183334055000204\n",
      "333334283334235000285\n",
      "333334383334435000385\n",
      "333334483334655000506\n",
      "333334583334895000650\n",
      "333334683335155000819\n",
      "333334783335435001015\n",
      "333334883335735001240\n",
      "333334983336055001496\n",
      "333335083336395001785\n",
      "333335183336755002109\n",
      "Calculate takes 9.29066172200055 seconds\n"
     ]
    }
   ],
   "source": [
    "import time\n",
    "\n",
    "def cpu_bound(number):\n",
    "    print(sum(i * i for i in range(number)))\n",
    "\n",
    "def calculate_sums(numbers):\n",
    "    for number in numbers:\n",
    "        cpu_bound(number)\n",
    "\n",
    "def main():\n",
    "    start_time = time.perf_counter()\n",
    "    numbers = [10000000 + x for x in range(20)]\n",
    "    calculate_sums(numbers)\n",
    "    end_time = time.perf_counter()\n",
    "    print('Calculate takes {} seconds'.format(end_time - start_time))\n",
    "\n",
    "if __name__ == '__main__':\n",
    "    main()"
   ]
  },
  {
   "cell_type": "code",
   "execution_count": 3,
   "metadata": {},
   "outputs": [
    {
     "name": "stdout",
     "output_type": "stream",
     "text": [
      "0\n",
      "1\n",
      "2\n",
      "3\n",
      "4\n"
     ]
    }
   ],
   "source": [
    "for i in range(5):\n",
    "    print(i)"
   ]
  },
  {
   "cell_type": "code",
   "execution_count": 6,
   "metadata": {},
   "outputs": [
    {
     "name": "stdout",
     "output_type": "stream",
     "text": [
      "[333333283333335000000, 333333383333335000000, 333333483333355000001, 333333583333395000005, 333333683333455000014, 333333783333535000030, 333333883333635000055, 333333983333755000091, 333334083333895000140, 333334183334055000204, 333334283334235000285, 333334383334435000385, 333334483334655000506, 333334583334895000650, 333334683335155000819, 333334783335435001015, 333334883335735001240, 333334983336055001496, 333335083336395001785, 333335183336755002109]\n",
      "Duration 1.5778543949127197 seconds\n"
     ]
    }
   ],
   "source": [
    "import multiprocessing\n",
    "import time\n",
    "\n",
    "def cpu_bound(number):\n",
    "    return sum(i * i for i in range(number))\n",
    "\n",
    "def find_sums(numbers):\n",
    "    with multiprocessing.Pool() as pool:\n",
    "        return pool.map(cpu_bound, numbers)\n",
    "\n",
    "if __name__ == '__main__':\n",
    "    numbers = [10000000 + x for x in range(20)]\n",
    "\n",
    "    start_time = time.time()\n",
    "    print(find_sums(numbers))\n",
    "    duration = time.time() - start_time\n",
    "    print(f\"Duration {duration} seconds\")\n"
   ]
  }
 ],
 "metadata": {
  "kernelspec": {
   "display_name": "geekbang-python-core",
   "language": "python",
   "name": "python3"
  },
  "language_info": {
   "codemirror_mode": {
    "name": "ipython",
    "version": 3
   },
   "file_extension": ".py",
   "mimetype": "text/x-python",
   "name": "python",
   "nbconvert_exporter": "python",
   "pygments_lexer": "ipython3",
   "version": "3.9.15"
  },
  "orig_nbformat": 4,
  "vscode": {
   "interpreter": {
    "hash": "80c78d802a3c1cded24c666231dc8c172ce01ee8af83719d58c29c99aa9f4b00"
   }
  }
 },
 "nbformat": 4,
 "nbformat_minor": 2
}
