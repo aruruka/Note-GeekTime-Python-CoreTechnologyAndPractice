{
 "cells": [
  {
   "cell_type": "code",
   "execution_count": null,
   "metadata": {},
   "outputs": [],
   "source": [
    "# 错误示例\n",
    "if (a <= 0):\n",
    "    return\n",
    "elif (a > b):\n",
    "    return\n",
    "else:\n",
    "    b -= a\n",
    "\n",
    "# 正确示例\n",
    "if (transfer_amount <= 0):\n",
    "    raise Exception('...')\n",
    "elif (transfer_amount > balance):\n",
    "    raise Exception('...')\n",
    "else:\n",
    "    balance -= transfer_amount"
   ]
  },
  {
   "cell_type": "code",
   "execution_count": null,
   "metadata": {},
   "outputs": [],
   "source": [
    "# 错误示例\n",
    "from mypkg import Obj\n",
    "from mypkg import my_func\n",
    "\n",
    "my_func([1, 2, 3])\n",
    "\n",
    "# 正确示例\n",
    "import numpy as np\n",
    "import mypkg\n",
    "\n",
    "np.array([6, 7, 8])"
   ]
  },
  {
   "cell_type": "code",
   "execution_count": 1,
   "metadata": {},
   "outputs": [
    {
     "data": {
      "text/plain": [
       "[('a', 0, 0), ('b', 1, 1), ('c', 2, 2)]"
      ]
     },
     "execution_count": 1,
     "metadata": {},
     "output_type": "execute_result"
    }
   ],
   "source": [
    "list(zip('abcdefg', range(3), range(4)))\n",
    "# [('a', 0, 0), ('b', 1, 1), ('c', 2, 2)]"
   ]
  },
  {
   "cell_type": "code",
   "execution_count": null,
   "metadata": {},
   "outputs": [],
   "source": [
    "# 错误示例\n",
    "result = [(x, y) for x in range(10) for y in range (10) if x * y > 10]\n",
    "\n",
    "# 正确示例\n",
    "result = []\n",
    "for x in range(10):\n",
    "    for y in range(10):\n",
    "        if x * y > 10:\n",
    "            result.append((x, y))"
   ]
  },
  {
   "cell_type": "code",
   "execution_count": 4,
   "metadata": {},
   "outputs": [
    {
     "name": "stdout",
     "output_type": "stream",
     "text": [
      "True\n",
      "False\n",
      "True\n",
      "True\n"
     ]
    }
   ],
   "source": [
    "# 错误示例\n",
    "x = 27\n",
    "y = 27\n",
    "print(x is y)\n",
    "\n",
    "x = 721\n",
    "y = 721\n",
    "print(x is y)\n",
    "\n",
    "# 正确示例\n",
    "x = 27\n",
    "y = 27\n",
    "print(x == y)\n",
    "\n",
    "x = 721\n",
    "y = 721\n",
    "print(x == y)"
   ]
  },
  {
   "cell_type": "code",
   "execution_count": null,
   "metadata": {},
   "outputs": [],
   "source": [
    "# 错误示例\n",
    "class MyObject(object):\n",
    "    def __eq__(self, __o: object) -> bool:\n",
    "        if __o:\n",
    "            return self.field == __o.field\n",
    "        return True\n",
    "\n",
    "x = MyObject()\n",
    "print(x == None)\n",
    "\n",
    "# 正确示例\n",
    "x = MyObject()\n",
    "print(x is None)\n"
   ]
  },
  {
   "cell_type": "code",
   "execution_count": null,
   "metadata": {},
   "outputs": [],
   "source": [
    "# 错误示例\n",
    "def pay(name, salary=None):\n",
    "    if not salary:\n",
    "        salary = 11\n",
    "    print(name, 'is compensated', salary, 'dollars')\n",
    "\n",
    "# 正确示例\n",
    "def pay(name, salary=None):\n",
    "    if salary is not None:\n",
    "        salary = 11\n",
    "    print(name, 'is compensated', salary, 'dollars')"
   ]
  },
  {
   "cell_type": "code",
   "execution_count": null,
   "metadata": {},
   "outputs": [],
   "source": [
    "# 错误示例\n",
    "adict = {i: i * 2 for i in range(10000000)}\n",
    "\n",
    "for key in adict.keys():\n",
    "    print(\"{0} = {1}\".format(key, adict[key]))\n",
    "\n",
    "# 正确示例\n",
    "# keys() 方法会在遍历前生成一个临时的列表，导致上面的代码消耗大量内存并且运行缓慢。正确的方式，是使用默认的 iterator。默认的 iterator 不会分配新的内存，也就不会造成上面的性能问题。\n",
    "for key in adict:\n",
    "    ..."
   ]
  }
 ],
 "metadata": {
  "kernelspec": {
   "display_name": "geekbang-python-core",
   "language": "python",
   "name": "python3"
  },
  "language_info": {
   "codemirror_mode": {
    "name": "ipython",
    "version": 3
   },
   "file_extension": ".py",
   "mimetype": "text/x-python",
   "name": "python",
   "nbconvert_exporter": "python",
   "pygments_lexer": "ipython3",
   "version": "3.9.15"
  },
  "orig_nbformat": 4,
  "vscode": {
   "interpreter": {
    "hash": "80c78d802a3c1cded24c666231dc8c172ce01ee8af83719d58c29c99aa9f4b00"
   }
  }
 },
 "nbformat": 4,
 "nbformat_minor": 2
}
