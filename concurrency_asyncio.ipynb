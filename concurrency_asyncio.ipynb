{
 "cells": [
  {
   "cell_type": "code",
   "execution_count": 1,
   "metadata": {},
   "outputs": [
    {
     "name": "stdout",
     "output_type": "stream",
     "text": [
      "Read 37248 from https://en.wikipedia.org/wiki/Portal:Society\n",
      "Read 72897 from https://en.wikipedia.org/wiki/Portal:Geography\n",
      "Read 74914 from https://en.wikipedia.org/wiki/Portal:History\n",
      "Read 65540 from https://en.wikipedia.org/wiki/Portal:Technology\n",
      "Read 99125 from https://en.wikipedia.org/wiki/Python_(programming_language)\n",
      "Read 68055 from https://en.wikipedia.org/wiki/Java_(programming_language)\n",
      "Read 57761 from https://en.wikipedia.org/wiki/Portal:Science\n",
      "Read 77157 from https://en.wikipedia.org/wiki/Computer_science\n",
      "Read 67719 from https://en.wikipedia.org/wiki/Portal:Mathematics\n",
      "Read 39793 from https://en.wikipedia.org/wiki/Node.js\n",
      "Read 85761 from https://en.wikipedia.org/wiki/Portal:Biography\n",
      "Read 97493 from https://en.wikipedia.org/wiki/PHP\n",
      "Read 16891 from https://en.wikipedia.org/wiki/The_C_Programming_Language\n",
      "Read 69447 from https://en.wikipedia.org/wiki/Go_(programming_language)\n",
      "Read 47551 from https://en.wikipedia.org/wiki/Portal:Arts\n",
      "Download 15 sites in 3.3530497289998493 seconds\n"
     ]
    }
   ],
   "source": [
    "import asyncio\n",
    "import aiohttp\n",
    "from aiohttp_proxy import ProxyConnector, ProxyType\n",
    "import time\n",
    "\n",
    "\n",
    "async def download_one(url):\n",
    "    connector = ProxyConnector.from_url('http://172.28.16.1:10811')\n",
    "    async with aiohttp.ClientSession(connector=connector) as session:\n",
    "        async with session.get(url) as resp:\n",
    "            print('Read {} from {}'.format(resp.content_length, url))\n",
    "\n",
    "\n",
    "async def download_all(sites):\n",
    "    tasks = [asyncio.create_task(download_one(site)) for site in sites]\n",
    "    await asyncio.gather(*tasks)\n",
    "\n",
    "\n",
    "async def main():\n",
    "    sites = [\n",
    "        'https://en.wikipedia.org/wiki/Portal:Arts',\n",
    "        'https://en.wikipedia.org/wiki/Portal:History',\n",
    "        'https://en.wikipedia.org/wiki/Portal:Society',\n",
    "        'https://en.wikipedia.org/wiki/Portal:Biography',\n",
    "        'https://en.wikipedia.org/wiki/Portal:Mathematics',\n",
    "        'https://en.wikipedia.org/wiki/Portal:Technology',\n",
    "        'https://en.wikipedia.org/wiki/Portal:Geography',\n",
    "        'https://en.wikipedia.org/wiki/Portal:Science',\n",
    "        'https://en.wikipedia.org/wiki/Computer_science',\n",
    "        'https://en.wikipedia.org/wiki/Python_(programming_language)',\n",
    "        'https://en.wikipedia.org/wiki/Java_(programming_language)',\n",
    "        'https://en.wikipedia.org/wiki/PHP',\n",
    "        'https://en.wikipedia.org/wiki/Node.js',\n",
    "        'https://en.wikipedia.org/wiki/The_C_Programming_Language',\n",
    "        'https://en.wikipedia.org/wiki/Go_(programming_language)'\n",
    "    ]\n",
    "\n",
    "    start_time = time.perf_counter()\n",
    "    await download_all(sites)\n",
    "    end_time = time.perf_counter()\n",
    "    print('Download {} sites in {} seconds'.format(\n",
    "        len(sites), end_time - start_time))\n",
    "\n",
    "await main()\n"
   ]
  },
  {
   "cell_type": "code",
   "execution_count": 2,
   "metadata": {},
   "outputs": [
    {
     "name": "stdout",
     "output_type": "stream",
     "text": [
      "__main__\n"
     ]
    }
   ],
   "source": [
    "print(__name__)"
   ]
  }
 ],
 "metadata": {
  "kernelspec": {
   "display_name": "geekbang-python-core",
   "language": "python",
   "name": "python3"
  },
  "language_info": {
   "codemirror_mode": {
    "name": "ipython",
    "version": 3
   },
   "file_extension": ".py",
   "mimetype": "text/x-python",
   "name": "python",
   "nbconvert_exporter": "python",
   "pygments_lexer": "ipython3",
   "version": "3.9.15"
  },
  "orig_nbformat": 4,
  "vscode": {
   "interpreter": {
    "hash": "80c78d802a3c1cded24c666231dc8c172ce01ee8af83719d58c29c99aa9f4b00"
   }
  }
 },
 "nbformat": 4,
 "nbformat_minor": 2
}
