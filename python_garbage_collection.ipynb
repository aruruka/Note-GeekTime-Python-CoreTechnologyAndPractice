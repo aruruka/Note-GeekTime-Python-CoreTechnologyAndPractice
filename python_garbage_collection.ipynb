{
 "cells": [
  {
   "attachments": {},
   "cell_type": "markdown",
   "metadata": {},
   "source": [
    "## What is a memory leak?\n",
    "\n",
    "- A leak here does not mean that your memory has an information security problem and is being used by a malicious program, but rather that the program itself is not designed properly, resulting in the program failing to free memory that is no longer in use.\n",
    "- A memory leak also does not mean that your memory has physically disappeared, but it means that the code has allocated a segment of memory and then lost control of that segment because of a design error, resulting in a waste of memory."
   ]
  },
  {
   "cell_type": "code",
   "execution_count": 1,
   "metadata": {},
   "outputs": [],
   "source": [
    "import os\n",
    "import psutil\n",
    "\n",
    "# 显示当前 python 程序占用的内存大小\n",
    "def show_memory_info(hint):\n",
    "    pid = os.getpid()\n",
    "    p = psutil.Process(pid)\n",
    "\n",
    "    info = p.memory_full_info()\n",
    "    memory = info.uss / 1024. / 1024\n",
    "    print(f'{hint} memory used: {memory} MB.')"
   ]
  },
  {
   "cell_type": "code",
   "execution_count": 2,
   "metadata": {},
   "outputs": [
    {
     "name": "stdout",
     "output_type": "stream",
     "text": [
      "initial memory used: 46.94921875 MB.\n",
      "after a created memory used: 435.90234375 MB.\n",
      "finished memory used: 48.46484375 MB.\n"
     ]
    }
   ],
   "source": [
    "def func():\n",
    "    show_memory_info('initial')\n",
    "    a = [i for i in range(10000000)]\n",
    "    show_memory_info('after a created')\n",
    "\n",
    "func()\n",
    "show_memory_info('finished')"
   ]
  },
  {
   "cell_type": "code",
   "execution_count": 3,
   "metadata": {},
   "outputs": [
    {
     "name": "stdout",
     "output_type": "stream",
     "text": [
      "initial memory used: 48.578125 MB.\n",
      "after a created memory used: 434.59765625 MB.\n",
      "finished memory used: 434.6015625 MB.\n"
     ]
    }
   ],
   "source": [
    "def func():\n",
    "    show_memory_info('initial')\n",
    "    global a\n",
    "    a = [i for i in range(10000000)]\n",
    "    show_memory_info('after a created')\n",
    "\n",
    "func()\n",
    "show_memory_info('finished')"
   ]
  },
  {
   "cell_type": "code",
   "execution_count": 5,
   "metadata": {},
   "outputs": [
    {
     "name": "stdout",
     "output_type": "stream",
     "text": [
      "initial memory used: 436.58203125 MB.\n",
      "after a created memory used: 822.12109375 MB.\n",
      "finished memory used: 436.57421875 MB.\n"
     ]
    }
   ],
   "source": [
    "def func():\n",
    "    show_memory_info('initial')\n",
    "    a = [i for i in range(10000000)]\n",
    "    show_memory_info('after a created')\n",
    "    return a\n",
    "\n",
    "a = func()\n",
    "show_memory_info('finished')\n"
   ]
  },
  {
   "cell_type": "code",
   "execution_count": 7,
   "metadata": {},
   "outputs": [
    {
     "name": "stdout",
     "output_type": "stream",
     "text": [
      "2\n",
      "4\n",
      "2\n"
     ]
    }
   ],
   "source": [
    "import sys\n",
    "\n",
    "a = []\n",
    "\n",
    "# 两次引用，一次来自a，一次来自 getrefcount\n",
    "print(sys.getrefcount(a))\n",
    "\n",
    "def func(a):\n",
    "    # 四次引用，a, python 的函数调用栈，函数参数，和 getrefcount\n",
    "    print(sys.getrefcount(a))\n",
    "\n",
    "func(a)\n",
    "\n",
    "# 两次引用，一次来自 a，一次来自 getrefcount, 函数 func 调用已经不存在\n",
    "print(sys.getrefcount(a))"
   ]
  },
  {
   "cell_type": "code",
   "execution_count": 10,
   "metadata": {},
   "outputs": [
    {
     "name": "stdout",
     "output_type": "stream",
     "text": [
      "2\n",
      "2\n",
      "3\n",
      "8\n"
     ]
    }
   ],
   "source": [
    "import sys\n",
    "\n",
    "a = []\n",
    "\n",
    "print(sys.getrefcount(a)) # 两次\n",
    "print(sys.getrefcount(a))\n",
    "\n",
    "b = a\n",
    "\n",
    "print(sys.getrefcount(a))\n",
    "\n",
    "c = b\n",
    "d = b\n",
    "e = c\n",
    "f = e\n",
    "g = d\n",
    "\n",
    "print(sys.getrefcount(a)) # 八次\n"
   ]
  },
  {
   "cell_type": "code",
   "execution_count": 11,
   "metadata": {},
   "outputs": [
    {
     "name": "stdout",
     "output_type": "stream",
     "text": [
      "initial memory used: 50.57421875 MB.\n",
      "after a created memory used: 435.89453125 MB.\n",
      "finish memory used: 50.59765625 MB.\n"
     ]
    },
    {
     "ename": "NameError",
     "evalue": "name 'a' is not defined",
     "output_type": "error",
     "traceback": [
      "\u001b[0;31m---------------------------------------------------------------------------\u001b[0m",
      "\u001b[0;31mNameError\u001b[0m                                 Traceback (most recent call last)",
      "Cell \u001b[0;32mIn [11], line 13\u001b[0m\n\u001b[1;32m     10\u001b[0m gc\u001b[39m.\u001b[39mcollect()\n\u001b[1;32m     12\u001b[0m show_memory_info(\u001b[39m'\u001b[39m\u001b[39mfinish\u001b[39m\u001b[39m'\u001b[39m)\n\u001b[0;32m---> 13\u001b[0m \u001b[39mprint\u001b[39m(a)\n",
      "\u001b[0;31mNameError\u001b[0m: name 'a' is not defined"
     ]
    }
   ],
   "source": [
    "import gc\n",
    "\n",
    "show_memory_info('initial')\n",
    "\n",
    "a = [i for i in range(10000000)]\n",
    "\n",
    "show_memory_info('after a created')\n",
    "\n",
    "del a\n",
    "gc.collect()\n",
    "\n",
    "show_memory_info('finish')\n",
    "print(a)"
   ]
  },
  {
   "cell_type": "code",
   "execution_count": 15,
   "metadata": {},
   "outputs": [],
   "source": [
    "[1,2,3].append([4,5])"
   ]
  },
  {
   "cell_type": "code",
   "execution_count": 16,
   "metadata": {},
   "outputs": [
    {
     "name": "stdout",
     "output_type": "stream",
     "text": [
      "initial memory used: 54.37109375 MB.\n",
      "after a, b created memory used: 828.44921875 MB.\n",
      "finished memory used: 828.44921875 MB.\n"
     ]
    }
   ],
   "source": [
    "def func():\n",
    "    show_memory_info('initial')\n",
    "    a = [i for i in range(10000000)]\n",
    "    b = [i for i in range(10000000)]\n",
    "    show_memory_info('after a, b created')\n",
    "    a.append(b)\n",
    "    b.append(a)\n",
    "\n",
    "func()\n",
    "show_memory_info('finished')"
   ]
  },
  {
   "cell_type": "code",
   "execution_count": 18,
   "metadata": {},
   "outputs": [
    {
     "name": "stdout",
     "output_type": "stream",
     "text": [
      "None\n"
     ]
    }
   ],
   "source": [
    "a = [1,2,3]\n",
    "b = [4,5,6]\n",
    "# c = a + b\n",
    "c = a.append(b)\n",
    "print(c)"
   ]
  },
  {
   "cell_type": "code",
   "execution_count": 19,
   "metadata": {},
   "outputs": [
    {
     "name": "stdout",
     "output_type": "stream",
     "text": [
      "initial memory used: 54.9375 MB.\n",
      "after a, b created memory used: 828.421875 MB.\n",
      "finished memory used: 54.80859375 MB.\n"
     ]
    }
   ],
   "source": [
    "import gc\n",
    "\n",
    "def func():\n",
    "    show_memory_info('initial')\n",
    "    a = [i for i in range(10000000)]\n",
    "    b = [i for i in range(10000000)]\n",
    "    show_memory_info('after a, b created')\n",
    "    a.append(b)\n",
    "    b.append(a)\n",
    "\n",
    "func()\n",
    "gc.collect()\n",
    "show_memory_info('finished')"
   ]
  },
  {
   "cell_type": "code",
   "execution_count": 23,
   "metadata": {},
   "outputs": [
    {
     "data": {
      "image/svg+xml": "<?xml version=\"1.0\" encoding=\"UTF-8\" standalone=\"no\"?>\n<!DOCTYPE svg PUBLIC \"-//W3C//DTD SVG 1.1//EN\"\n \"http://www.w3.org/Graphics/SVG/1.1/DTD/svg11.dtd\">\n<!-- Generated by graphviz version 2.43.0 (0)\n -->\n<!-- Title: ObjectGraph Pages: 1 -->\n<svg width=\"358pt\" height=\"194pt\"\n viewBox=\"0.00 0.00 358.00 194.00\" xmlns=\"http://www.w3.org/2000/svg\" xmlns:xlink=\"http://www.w3.org/1999/xlink\">\n<g id=\"graph0\" class=\"graph\" transform=\"scale(1 1) rotate(0) translate(4 190)\">\n<title>ObjectGraph</title>\n<polygon fill=\"white\" stroke=\"transparent\" points=\"-4,4 -4,-190 354,-190 354,4 -4,4\"/>\n<!-- o140601002305280 -->\n<g id=\"node1\" class=\"node\">\n<title>o140601002305280</title>\n<polygon fill=\"#ffffff\" stroke=\"black\" points=\"214,-186 144,-186 144,-148 214,-148 214,-186\"/>\n<text text-anchor=\"middle\" x=\"179\" y=\"-170.8\" font-family=\"Times,serif\" font-size=\"14.00\" fill=\"red\">list</text>\n<text text-anchor=\"middle\" x=\"179\" y=\"-155.8\" font-family=\"Times,serif\" font-size=\"14.00\" fill=\"red\">4 items</text>\n</g>\n<!-- o140600925843264 -->\n<g id=\"node2\" class=\"node\">\n<title>o140600925843264</title>\n<polygon fill=\"#c3c3c3\" stroke=\"black\" points=\"134,-112 64,-112 64,-74 134,-74 134,-112\"/>\n<text text-anchor=\"middle\" x=\"99\" y=\"-96.8\" font-family=\"Times,serif\" font-size=\"14.00\">list</text>\n<text text-anchor=\"middle\" x=\"99\" y=\"-81.8\" font-family=\"Times,serif\" font-size=\"14.00\">4 items</text>\n</g>\n<!-- o140601002305280&#45;&gt;o140600925843264 -->\n<g id=\"edge1\" class=\"edge\">\n<title>o140601002305280&#45;&gt;o140600925843264</title>\n<path fill=\"none\" stroke=\"black\" d=\"M152.86,-147.83C142.35,-139.13 130.45,-128.58 120.45,-119.13\"/>\n<polygon fill=\"black\" stroke=\"black\" points=\"122.86,-116.59 113.23,-112.16 118,-121.62 122.86,-116.59\"/>\n</g>\n<!-- o140601075026288 -->\n<g id=\"node3\" class=\"node\">\n<title>o140601075026288</title>\n<polygon fill=\"#c3c3c3\" stroke=\"black\" points=\"206,-112 152,-112 152,-74 206,-74 206,-112\"/>\n<text text-anchor=\"middle\" x=\"179\" y=\"-96.8\" font-family=\"Times,serif\" font-size=\"14.00\">int</text>\n<text text-anchor=\"middle\" x=\"179\" y=\"-81.8\" font-family=\"Times,serif\" font-size=\"14.00\">3</text>\n</g>\n<!-- o140601002305280&#45;&gt;o140601075026288 -->\n<g id=\"edge2\" class=\"edge\">\n<title>o140601002305280&#45;&gt;o140601075026288</title>\n<path fill=\"none\" stroke=\"black\" d=\"M179,-147.83C179,-140.13 179,-130.97 179,-122.42\"/>\n<polygon fill=\"black\" stroke=\"black\" points=\"182.5,-122.41 179,-112.41 175.5,-122.41 182.5,-122.41\"/>\n</g>\n<!-- o140601075026256 -->\n<g id=\"node4\" class=\"node\">\n<title>o140601075026256</title>\n<polygon fill=\"#c3c3c3\" stroke=\"black\" points=\"278,-112 224,-112 224,-74 278,-74 278,-112\"/>\n<text text-anchor=\"middle\" x=\"251\" y=\"-96.8\" font-family=\"Times,serif\" font-size=\"14.00\">int</text>\n<text text-anchor=\"middle\" x=\"251\" y=\"-81.8\" font-family=\"Times,serif\" font-size=\"14.00\">2</text>\n</g>\n<!-- o140601002305280&#45;&gt;o140601075026256 -->\n<g id=\"edge3\" class=\"edge\">\n<title>o140601002305280&#45;&gt;o140601075026256</title>\n<path fill=\"none\" stroke=\"black\" d=\"M197.17,-147.83C205.72,-139.28 216.06,-128.94 225.38,-119.62\"/>\n<polygon fill=\"black\" stroke=\"black\" points=\"227.99,-121.96 232.59,-112.41 223.04,-117.01 227.99,-121.96\"/>\n</g>\n<!-- o140601075026224 -->\n<g id=\"node5\" class=\"node\">\n<title>o140601075026224</title>\n<polygon fill=\"#c3c3c3\" stroke=\"black\" points=\"350,-112 296,-112 296,-74 350,-74 350,-112\"/>\n<text text-anchor=\"middle\" x=\"323\" y=\"-96.8\" font-family=\"Times,serif\" font-size=\"14.00\">int</text>\n<text text-anchor=\"middle\" x=\"323\" y=\"-81.8\" font-family=\"Times,serif\" font-size=\"14.00\">1</text>\n</g>\n<!-- o140601002305280&#45;&gt;o140601075026224 -->\n<g id=\"edge4\" class=\"edge\">\n<title>o140601002305280&#45;&gt;o140601075026224</title>\n<path fill=\"none\" stroke=\"black\" d=\"M214.23,-148.39C236.23,-137.39 264.49,-123.25 286.7,-112.15\"/>\n<polygon fill=\"black\" stroke=\"black\" points=\"288.43,-115.2 295.8,-107.6 285.3,-108.94 288.43,-115.2\"/>\n</g>\n<!-- o140600925843264&#45;&gt;o140601002305280 -->\n<g id=\"edge5\" class=\"edge\">\n<title>o140600925843264&#45;&gt;o140601002305280</title>\n<path fill=\"none\" stroke=\"black\" d=\"M125.13,-112.16C135.64,-120.86 147.54,-131.41 157.54,-140.87\"/>\n<polygon fill=\"black\" stroke=\"black\" points=\"155.14,-143.41 164.77,-147.83 160,-138.37 155.14,-143.41\"/>\n</g>\n<!-- o140601075026384 -->\n<g id=\"node6\" class=\"node\">\n<title>o140601075026384</title>\n<polygon fill=\"#878787\" stroke=\"black\" points=\"54,-38 0,-38 0,0 54,0 54,-38\"/>\n<text text-anchor=\"middle\" x=\"27\" y=\"-22.8\" font-family=\"Times,serif\" font-size=\"14.00\">int</text>\n<text text-anchor=\"middle\" x=\"27\" y=\"-7.8\" font-family=\"Times,serif\" font-size=\"14.00\">6</text>\n</g>\n<!-- o140600925843264&#45;&gt;o140601075026384 -->\n<g id=\"edge6\" class=\"edge\">\n<title>o140600925843264&#45;&gt;o140601075026384</title>\n<path fill=\"none\" stroke=\"black\" d=\"M80.83,-73.83C72.28,-65.28 61.94,-54.94 52.62,-45.62\"/>\n<polygon fill=\"black\" stroke=\"black\" points=\"54.96,-43.01 45.41,-38.41 50.01,-47.96 54.96,-43.01\"/>\n</g>\n<!-- o140601075026352 -->\n<g id=\"node7\" class=\"node\">\n<title>o140601075026352</title>\n<polygon fill=\"#878787\" stroke=\"black\" points=\"126,-38 72,-38 72,0 126,0 126,-38\"/>\n<text text-anchor=\"middle\" x=\"99\" y=\"-22.8\" font-family=\"Times,serif\" font-size=\"14.00\">int</text>\n<text text-anchor=\"middle\" x=\"99\" y=\"-7.8\" font-family=\"Times,serif\" font-size=\"14.00\">5</text>\n</g>\n<!-- o140600925843264&#45;&gt;o140601075026352 -->\n<g id=\"edge7\" class=\"edge\">\n<title>o140600925843264&#45;&gt;o140601075026352</title>\n<path fill=\"none\" stroke=\"black\" d=\"M99,-73.83C99,-66.13 99,-56.97 99,-48.42\"/>\n<polygon fill=\"black\" stroke=\"black\" points=\"102.5,-48.41 99,-38.41 95.5,-48.41 102.5,-48.41\"/>\n</g>\n<!-- o140601075026320 -->\n<g id=\"node8\" class=\"node\">\n<title>o140601075026320</title>\n<polygon fill=\"#878787\" stroke=\"black\" points=\"198,-38 144,-38 144,0 198,0 198,-38\"/>\n<text text-anchor=\"middle\" x=\"171\" y=\"-22.8\" font-family=\"Times,serif\" font-size=\"14.00\">int</text>\n<text text-anchor=\"middle\" x=\"171\" y=\"-7.8\" font-family=\"Times,serif\" font-size=\"14.00\">4</text>\n</g>\n<!-- o140600925843264&#45;&gt;o140601075026320 -->\n<g id=\"edge8\" class=\"edge\">\n<title>o140600925843264&#45;&gt;o140601075026320</title>\n<path fill=\"none\" stroke=\"black\" d=\"M117.17,-73.83C125.72,-65.28 136.06,-54.94 145.38,-45.62\"/>\n<polygon fill=\"black\" stroke=\"black\" points=\"147.99,-47.96 152.59,-38.41 143.04,-43.01 147.99,-47.96\"/>\n</g>\n</g>\n</svg>\n",
      "text/plain": [
       "<graphviz.sources.Source at 0x7fe03419b9d0>"
      ]
     },
     "execution_count": 23,
     "metadata": {},
     "output_type": "execute_result"
    }
   ],
   "source": [
    "import objgraph\n",
    "\n",
    "a = [1, 2, 3]\n",
    "b = [4, 5, 6]\n",
    "\n",
    "a.append(b)\n",
    "b.append(a)\n",
    "\n",
    "objgraph.show_refs([a])\n"
   ]
  }
 ],
 "metadata": {
  "kernelspec": {
   "display_name": "geekbang-python-core",
   "language": "python",
   "name": "python3"
  },
  "language_info": {
   "codemirror_mode": {
    "name": "ipython",
    "version": 3
   },
   "file_extension": ".py",
   "mimetype": "text/x-python",
   "name": "python",
   "nbconvert_exporter": "python",
   "pygments_lexer": "ipython3",
   "version": "3.9.15"
  },
  "orig_nbformat": 4,
  "vscode": {
   "interpreter": {
    "hash": "80c78d802a3c1cded24c666231dc8c172ce01ee8af83719d58c29c99aa9f4b00"
   }
  }
 },
 "nbformat": 4,
 "nbformat_minor": 2
}
